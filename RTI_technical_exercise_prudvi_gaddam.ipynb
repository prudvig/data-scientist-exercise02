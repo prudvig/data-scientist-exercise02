{
 "cells": [
  {
   "cell_type": "markdown",
   "id": "7dce20ae",
   "metadata": {},
   "source": [
    "### Task 1: Read and standardize the json files in a way that facilitates further analysis "
   ]
  },
  {
   "cell_type": "code",
   "execution_count": 1,
   "id": "15169422",
   "metadata": {},
   "outputs": [
    {
     "name": "stderr",
     "output_type": "stream",
     "text": [
      "[nltk_data] Downloading package wordnet to\n",
      "[nltk_data]     C:\\Users\\Prudvi\\AppData\\Roaming\\nltk_data...\n",
      "[nltk_data]   Package wordnet is already up-to-date!\n"
     ]
    },
    {
     "data": {
      "text/plain": [
       "True"
      ]
     },
     "execution_count": 1,
     "metadata": {},
     "output_type": "execute_result"
    }
   ],
   "source": [
    "# import packages relevant to this project\n",
    "import pandas as pd\n",
    "import os, json\n",
    "import matplotlib.pyplot as plt\n",
    "import seaborn as sns\n",
    "import gensim\n",
    "import numpy as np\n",
    "from nltk.stem import WordNetLemmatizer, SnowballStemmer\n",
    "from gensim.models import CoherenceModel\n",
    "import pyLDAvis.gensim_models\n",
    "import pyLDAvis\n",
    "import nltk \n",
    "import random\n",
    "\n",
    "nltk.download('wordnet')"
   ]
  },
  {
   "cell_type": "markdown",
   "id": "93a0ab6f",
   "metadata": {},
   "source": [
    "Import the CSV data and merge it with the json files in the dataset"
   ]
  },
  {
   "cell_type": "code",
   "execution_count": 2,
   "id": "9bed2df1",
   "metadata": {},
   "outputs": [],
   "source": [
    "# import CSV data\n",
    "aviation = pd.read_csv('G://My Drive//Job Search//Technical Exercises//RTI//desktop//data-scientist-exercise02//data//AviationData.csv')\n",
    "\n",
    "# import json data\n",
    "path_to_json = 'G://My Drive//Job Search//Technical Exercises//RTI//desktop//data-scientist-exercise02//data//'\n",
    "json_files = [pos_json for pos_json in os.listdir(path_to_json) if pos_json.endswith('.json')]\n",
    "# print(json_files)  # checking to see if all json files were captured correctly\n",
    "\n",
    "# initialize empty lists to capture all the data from the json files\n",
    "event_id_list = []\n",
    "narrative_list = []\n",
    "probable_cause_list = []\n",
    "\n",
    "# This for loop loops through all the json files in the data directory and creates three lists for the relevant information \n",
    "# in every json file. \n",
    "for index, js in enumerate(json_files):\n",
    "    with open(os.path.join(path_to_json, js)) as json_file:\n",
    "        json_text = json.load(json_file)\n",
    "        json_len = len(json_text['data'])\n",
    "        for i in range(0,json_len):\n",
    "            event_id = json_text['data'][i]['EventId']\n",
    "            narrative = json_text['data'][i]['narrative']\n",
    "            probable_cause = json_text['data'][i]['probable_cause']\n",
    "            event_id_list.append(event_id)\n",
    "            narrative_list.append(narrative)\n",
    "            probable_cause_list.append(probable_cause)\n",
    "\n",
    "# create the final dataframe that comtains all the data from the json files \n",
    "jsons_df = pd.DataFrame({'EventId':event_id_list, 'narrative':narrative_list, 'probable_cause_list':probable_cause_list})\n",
    "\n",
    "# Create the final df which is a merge of the aviation df and the jsons df\n",
    "aviation = aviation.merge(jsons_df, on = 'EventId', how = 'left')"
   ]
  },
  {
   "cell_type": "markdown",
   "id": "e4dec028",
   "metadata": {},
   "source": [
    "### Task 2: Prepare descriptive statistics that convey an overview of the unstructured data"
   ]
  },
  {
   "cell_type": "markdown",
   "id": "e3638f3c",
   "metadata": {},
   "source": [
    "Start with just getting a sense of numerical and non numerical variables in the dataset as well as proportion of missing variables"
   ]
  },
  {
   "cell_type": "code",
   "execution_count": 3,
   "id": "24f501b8",
   "metadata": {
    "scrolled": true
   },
   "outputs": [
    {
     "name": "stdout",
     "output_type": "stream",
     "text": [
      "<class 'pandas.core.frame.DataFrame'>\n",
      "Int64Index: 77257 entries, 0 to 77256\n",
      "Data columns (total 33 columns):\n",
      " #   Column                Non-Null Count  Dtype  \n",
      "---  ------                --------------  -----  \n",
      " 0   EventId               77257 non-null  object \n",
      " 1   InvestigationType     77257 non-null  object \n",
      " 2   AccidentNumber        77257 non-null  object \n",
      " 3   EventDate             77254 non-null  object \n",
      " 4   Location              77176 non-null  object \n",
      " 5   Country               76747 non-null  object \n",
      " 6   Latitude              23761 non-null  float64\n",
      " 7   Longitude             23752 non-null  float64\n",
      " 8   AirportCode           43363 non-null  object \n",
      " 9   AirportName           46094 non-null  object \n",
      " 10  InjurySeverity        77151 non-null  object \n",
      " 11  AircraftDamage        74873 non-null  object \n",
      " 12  AircraftCategory      16520 non-null  object \n",
      " 13  RegistrationNumber    74498 non-null  object \n",
      " 14  Make                  77168 non-null  object \n",
      " 15  Model                 77139 non-null  object \n",
      " 16  AmateurBuilt          76603 non-null  object \n",
      " 17  NumberOfEngines       73336 non-null  float64\n",
      " 18  EngineType            74048 non-null  object \n",
      " 19  FARDescription        16665 non-null  object \n",
      " 20  Schedule              11379 non-null  object \n",
      " 21  PurposeOfFlight       73659 non-null  object \n",
      " 22  AirCarrier            3818 non-null   object \n",
      " 23  TotalFatalInjuries    55791 non-null  float64\n",
      " 24  TotalSeriousInjuries  53744 non-null  float64\n",
      " 25  TotalMinorInjuries    54733 non-null  float64\n",
      " 26  TotalUninjured        65862 non-null  float64\n",
      " 27  WeatherCondition      75268 non-null  object \n",
      " 28  BroadPhaseOfFlight    71030 non-null  object \n",
      " 29  ReportStatus          77257 non-null  object \n",
      " 30  PublicationDate       64069 non-null  object \n",
      " 31  narrative             77257 non-null  object \n",
      " 32  probable_cause_list   77257 non-null  object \n",
      "dtypes: float64(7), object(26)\n",
      "memory usage: 20.0+ MB\n"
     ]
    }
   ],
   "source": [
    "aviation.info()"
   ]
  },
  {
   "cell_type": "code",
   "execution_count": 4,
   "id": "2b624fa7",
   "metadata": {},
   "outputs": [],
   "source": [
    "# convert event date and publication date to a datetime\n",
    "aviation['EventDate'] = pd.to_datetime(aviation['EventDate'])\n",
    "aviation['PublicationDate'] = pd.to_datetime(aviation['PublicationDate'])"
   ]
  },
  {
   "cell_type": "markdown",
   "id": "644fa508",
   "metadata": {},
   "source": [
    "Check out some of the continuous variables in the dataset"
   ]
  },
  {
   "cell_type": "code",
   "execution_count": 66,
   "id": "cb0c3dde",
   "metadata": {},
   "outputs": [
    {
     "name": "stdout",
     "output_type": "stream",
     "text": [
      "           Latitude     Longitude  NumberOfEngines  TotalFatalInjuries  \\\n",
      "count  23761.000000  23752.000000     73336.000000        55791.000000   \n",
      "mean      37.744819    -93.807654         1.149095            0.788962   \n",
      "std       12.022069     39.510021         0.463222            6.087442   \n",
      "min      -78.016945   -193.216667         0.000000            0.000000   \n",
      "25%       33.416389   -115.134444         1.000000            0.000000   \n",
      "50%       38.190555    -94.660555         1.000000            0.000000   \n",
      "75%       42.572223    -81.761944         1.000000            1.000000   \n",
      "max       89.218056    177.557778        24.000000          349.000000   \n",
      "\n",
      "       TotalSeriousInjuries  TotalMinorInjuries  TotalUninjured          year  \\\n",
      "count          53744.000000        54733.000000    65862.000000  77254.000000   \n",
      "mean               0.309895            0.492555        5.716817   1996.250796   \n",
      "std                1.368488            2.779814       29.052413      9.760909   \n",
      "min                0.000000            0.000000        0.000000   1948.000000   \n",
      "25%                0.000000            0.000000        0.000000   1987.000000   \n",
      "50%                0.000000            0.000000        1.000000   1995.000000   \n",
      "75%                0.000000            1.000000        2.000000   2004.000000   \n",
      "max              111.000000          380.000000      699.000000   2015.000000   \n",
      "\n",
      "             decade  \n",
      "count  77254.000000  \n",
      "mean    1991.875760  \n",
      "std       10.202843  \n",
      "min     1940.000000  \n",
      "25%     1980.000000  \n",
      "50%     1990.000000  \n",
      "75%     2000.000000  \n",
      "max     2010.000000  \n"
     ]
    },
    {
     "data": {
      "text/plain": [
       "(0.0, 50.0)"
      ]
     },
     "execution_count": 66,
     "metadata": {},
     "output_type": "execute_result"
    },
    {
     "data": {
      "image/png": "[encoded data removed]",
      "text/plain": [
       "<Figure size 432x288 with 1 Axes>"
      ]
     },
     "metadata": {
      "needs_background": "light"
     },
     "output_type": "display_data"
    },
    {
     "data": {
      "image/png": "[encoded data removed]",
      "text/plain": [
       "<Figure size 432x288 with 1 Axes>"
      ]
     },
     "metadata": {
      "needs_background": "light"
     },
     "output_type": "display_data"
    },
    {
     "data": {
      "image/png": "[encoded data removed]",
      "text/plain": [
       "<Figure size 432x288 with 1 Axes>"
      ]
     },
     "metadata": {
      "needs_background": "light"
     },
     "output_type": "display_data"
    },
    {
     "data": {
      "image/png": "[encoded data removed]",
      "text/plain": [
       "<Figure size 432x288 with 1 Axes>"
      ]
     },
     "metadata": {
      "needs_background": "light"
     },
     "output_type": "display_data"
    }
   ],
   "source": [
    "print(aviation.describe())\n",
    "\n",
    "plt.figure()\n",
    "sns.histplot(data = aviation, x = 'TotalFatalInjuries', binwidth = 2)\n",
    "plt.xlim(0, 50)\n",
    "\n",
    "plt.figure()\n",
    "sns.histplot(data = aviation, x = 'TotalSeriousInjuries', binwidth = 2)\n",
    "plt.xlim(0, 50)\n",
    "\n",
    "plt.figure()\n",
    "sns.histplot(data = aviation, x = 'TotalMinorInjuries', binwidth = 2)\n",
    "plt.xlim(0, 50)\n",
    "\n",
    "plt.figure()\n",
    "sns.histplot(data = aviation, x = 'TotalUninjured', binwidth = 2)\n",
    "plt.xlim(0, 50)"
   ]
  },
  {
   "cell_type": "markdown",
   "id": "1f366cf9",
   "metadata": {},
   "source": [
    "Check out the categorical variables within the dataset"
   ]
  },
  {
   "cell_type": "code",
   "execution_count": 64,
   "id": "555736e5",
   "metadata": {},
   "outputs": [
    {
     "name": "stdout",
     "output_type": "stream",
     "text": [
      "Accident    74207\n",
      "Incident     3050\n",
      "Name: InvestigationType, dtype: int64\n",
      "ANCHORAGE, AK       372\n",
      "MIAMI, FL           185\n",
      "CHICAGO, IL         169\n",
      "ALBUQUERQUE, NM     164\n",
      "HOUSTON, TX         155\n",
      "                   ... \n",
      "RIDGE SPRING, SC      1\n",
      "Spanoway, WA          1\n",
      "TEMPLE BAR, NV        1\n",
      "HEATHSVILLE, VA       1\n",
      "OSCEOLA, MO           1\n",
      "Name: Location, Length: 24701, dtype: int64\n",
      "United States     73076\n",
      "Canada              225\n",
      "Mexico              197\n",
      "Brazil              191\n",
      "United Kingdom      188\n",
      "                  ...  \n",
      "Iran                  1\n",
      "Senegal               1\n",
      "Bermuda               1\n",
      "Bulgaria              1\n",
      "St Lucia              1\n",
      "Name: Country, Length: 173, dtype: int64\n",
      "NONE    1457\n",
      "PVT      341\n",
      "ORD      144\n",
      "APA      140\n",
      "MRI      124\n",
      "        ... \n",
      "MLL        1\n",
      "49Y        1\n",
      "IIY        1\n",
      "3W6        1\n",
      "6MO        1\n",
      "Name: AirportCode, Length: 9485, dtype: int64\n",
      "PRIVATE                           215\n",
      "Private                           165\n",
      "NONE                              140\n",
      "Private Airstrip                  129\n",
      "PRIVATE STRIP                     111\n",
      "                                 ... \n",
      "CAMERON HELIPORT                    1\n",
      "MCNEIL AIRSTRIP                     1\n",
      "Louisa County Airport               1\n",
      "SUPERIOR STRIP                      1\n",
      "Villavicenco-Vanguardia Airpor      1\n",
      "Name: AirportName, Length: 22280, dtype: int64\n",
      "Non-Fatal     58499\n",
      "Fatal(1)       7598\n",
      "Fatal(2)       4494\n",
      "Incident       3050\n",
      "Fatal(3)       1407\n",
      "              ...  \n",
      "Fatal(90)         1\n",
      "Fatal(256)        1\n",
      "Fatal(239)        1\n",
      "Fatal(123)        1\n",
      "Fatal(152)        1\n",
      "Name: InjurySeverity, Length: 119, dtype: int64\n",
      "Substantial    55420\n",
      "Destroyed      17003\n",
      "Minor           2450\n",
      "Name: AircraftDamage, dtype: int64\n",
      "Airplane             14210\n",
      "Helicopter            1775\n",
      "Glider                 261\n",
      "Balloon                120\n",
      "Gyrocraft               62\n",
      "Unknown                 40\n",
      "Weight-Shift            20\n",
      "Ultralight              18\n",
      "Powered Parachute       10\n",
      "Powered-Lift             2\n",
      "Rocket                   1\n",
      "Blimp                    1\n",
      "Name: AircraftCategory, dtype: int64\n",
      "CESSNA                16609\n",
      "PIPER                  9179\n",
      "Cessna                 7739\n",
      "Piper                  4096\n",
      "BEECH                  3030\n",
      "                      ...  \n",
      "Slagle                    1\n",
      "Charles J. Keuthan        1\n",
      "Interplane SRO            1\n",
      "MONNETT JOHN T JR         1\n",
      "Lanham                    1\n",
      "Name: Make, Length: 7201, dtype: int64\n",
      "152              2251\n",
      "172              1164\n",
      "172N             1121\n",
      "PA-28-140         900\n",
      "172M              771\n",
      "                 ... \n",
      "10-A                1\n",
      "FALCON XC           1\n",
      "Microlite           1\n",
      "Escape LS           1\n",
      "ASCENDER II+2       1\n",
      "Name: Model, Length: 11027, dtype: int64\n",
      "No     69198\n",
      "Yes     7405\n",
      "Name: AmateurBuilt, dtype: int64\n",
      "1.0     61465\n",
      "2.0      9854\n",
      "0.0      1132\n",
      "3.0       477\n",
      "4.0       406\n",
      "18.0        1\n",
      "24.0        1\n",
      "Name: NumberOfEngines, dtype: int64\n",
      "Reciprocating       63016\n",
      "Turbo Shaft          3204\n",
      "Turbo Prop           2934\n",
      "Turbo Fan            2147\n",
      "Unknown              2063\n",
      "Turbo Jet             669\n",
      "None                    5\n",
      "TF, TJ                  3\n",
      "REC, TJ, TJ             2\n",
      "REC, TJ, REC, TJ        1\n",
      "Hybrid Rocket           1\n",
      "TJ, REC, REC, TJ        1\n",
      "TF, TJ, TJ              1\n",
      "Electric                1\n",
      "Name: EngineType, dtype: int64\n",
      "Part 91: General Aviation            12934\n",
      "Part 137: Agricultural                 810\n",
      "Non-U.S., Non-Commercial               677\n",
      "Part 135: Air Taxi & Commuter          643\n",
      "Non-U.S., Commercial                   489\n",
      "Part 121: Air Carrier                  477\n",
      "Part 129: Foreign                      185\n",
      "Unknown                                172\n",
      "Public Use                             158\n",
      "Part 133: Rotorcraft Ext. Load          87\n",
      "Part 91 Subpart K: Fractional           13\n",
      "Part 125: 20+ Pax,6000+ lbs              7\n",
      "Armed Forces                             6\n",
      "Part 103: Ultralight                     5\n",
      "Part 91F: Special Flt Ops.               1\n",
      "Part 437: Commercial Space Flight        1\n",
      "Name: FARDescription, dtype: int64\n",
      "UNK     4099\n",
      "NSCH    3814\n",
      "SCHD    3466\n",
      "Name: Schedule, dtype: int64\n",
      "Personal                     43360\n",
      "Instructional                 9272\n",
      "Unknown                       6764\n",
      "Aerial Application            4288\n",
      "Business                      3832\n",
      "Positioning                   1487\n",
      "Other Work Use                1094\n",
      "Ferry                          768\n",
      "Public Use                     707\n",
      "Aerial Observation             645\n",
      "Executive/Corporate            509\n",
      "Flight Test                    292\n",
      "Air Race/Show                  133\n",
      "Skydiving                      106\n",
      "Public Aircraft - Federal       83\n",
      "Banner Tow                      77\n",
      "External Load                   75\n",
      "Public Aircraft - State         51\n",
      "Public Aircraft - Local         49\n",
      "Glider Tow                      40\n",
      "Fire Fighting                   19\n",
      "Air Drop                         8\n",
      "Name: PurposeOfFlight, dtype: int64\n",
      "UNITED AIRLINES                                 49\n",
      "AMERICAN AIRLINES                               41\n",
      "CONTINENTAL AIRLINES                            25\n",
      "USAIR                                           24\n",
      "DELTA AIR LINES INC                             23\n",
      "                                                ..\n",
      "REDTAIL AVIATION                                 1\n",
      "WESTERN YUKON AIR                                1\n",
      "MARKAIR,  INC.                                   1\n",
      "West Isle Air, Inc. (DBA: West Isle Air)         1\n",
      "Allegheny Airlines (DBA: US Airways Express)     1\n",
      "Name: AirCarrier, Length: 2813, dtype: int64\n",
      "VMC    68764\n",
      "IMC     5580\n",
      "UNK      924\n",
      "Name: WeatherCondition, dtype: int64\n",
      "LANDING        18553\n",
      "TAKEOFF        14740\n",
      "CRUISE         10597\n",
      "MANEUVERING     9499\n",
      "APPROACH        7510\n",
      "TAXI            2260\n",
      "CLIMB           2225\n",
      "DESCENT         2152\n",
      "GO-AROUND       1570\n",
      "STANDING        1163\n",
      "UNKNOWN          614\n",
      "OTHER            147\n",
      "Name: BroadPhaseOfFlight, dtype: int64\n",
      "Probable Cause    72264\n",
      "Foreign            3600\n",
      "Preliminary        1144\n",
      "Factual             249\n",
      "Name: ReportStatus, dtype: int64\n"
     ]
    }
   ],
   "source": [
    "# Get value counts of all the categorical variables. These variables have been selected by opening the dataframe in the variable explorer and getting a sense of what is in each column\n",
    "cat_var = ['InvestigationType', 'Location', 'Country', 'AirportCode', 'AirportName', 'InjurySeverity', 'AircraftDamage', 'AircraftCategory', 'Make', 'Model', \n",
    "           'AmateurBuilt', 'NumberOfEngines', 'EngineType', 'FARDescription', 'Schedule', 'PurposeOfFlight', 'AirCarrier', 'WeatherCondition', 'BroadPhaseOfFlight',\n",
    "           'ReportStatus']\n",
    "\n",
    "for var in cat_var:\n",
    "    print(aviation[var].value_counts())"
   ]
  },
  {
   "cell_type": "markdown",
   "id": "1ce80574",
   "metadata": {},
   "source": [
    "Check out a few of the random narratives that exist within the data"
   ]
  },
  {
   "cell_type": "code",
   "execution_count": 5,
   "id": "dfeb74d9",
   "metadata": {
    "scrolled": true
   },
   "outputs": [
    {
     "name": "stdout",
     "output_type": "stream",
     "text": [
      "45257    NTSB investigators may not have traveled in support of this investigation and used data provided by various sources to prepare this aircraft accident report. DURING A PRACTICE NDB APPROACH THE PRIVATE PILOT EXPERIENCED A LOSS OF ENGINE POWER. HE REALIZED THAT HE WOULD NOT BE ABLE TO LAND AT THE AIRPORT SO HE ELECTED TO LAND AT THE ONLY AVAILABLE AREA, AN OPEN FIELD. DURING THE LANDING ROLL THE NOSE GEAR SANK INTO THE SOFT GROUND AND THE AIRPLANE NOSED OVER TO THE INVERTED POSITION. THE CAUSE OF THE LOSS OF ENGINE POWER COULD NOT BE DETERMINED. \n",
      "Name: narrative, dtype: object\n"
     ]
    }
   ],
   "source": [
    "pd.options.display.max_colwidth = 1000\n",
    "print(aviation['narrative'].sample())"
   ]
  },
  {
   "cell_type": "markdown",
   "id": "2c8627a8",
   "metadata": {},
   "source": [
    "Most of the narratives have a some iteration of \"NTSB investigators...\" I believe that this may be some kind of descriptive option that is added to the original narrative, which is actually the sentences that come after this sentence. Sentences that begin with this phrase will be separated out and put in their own column and the narrative will be analyzed with and without this sentence removed "
   ]
  },
  {
   "cell_type": "code",
   "execution_count": 6,
   "id": "ef6a0605",
   "metadata": {},
   "outputs": [],
   "source": [
    "# This function strips creates two new sets of string inputs. new_narrative is the narrative without the sentence starting \n",
    "# with \"ntsb investigator...\" removed. ntsb_input is those sentences preserved\n",
    "def sentence_strip(text):\n",
    "    sentences = text.split(\".\")\n",
    "    new_narrative = \". \".join(s for s in sentences if not s.lower().startswith(\"ntsb investigator\")) + \".\"\n",
    "    ntsb_input = \". \".join(s for s in sentences if s.lower().startswith(\"ntsb investigator\")) + \".\"\n",
    "    if new_narrative == \".\":\n",
    "        new_narrative = \"\"\n",
    "    if ntsb_input == \".\":\n",
    "        ntsb_input = \"\"\n",
    "    return new_narrative, ntsb_input\n",
    "\n",
    "# create a dataframe with new_narrative and NTSB_input\n",
    "narrative_trunc = pd.DataFrame(aviation['narrative'].apply(sentence_strip).tolist()).rename(columns = {0: 'new_narrative', 1:'NTSB_input'})\n",
    "\n",
    "aviation = pd.concat([aviation, narrative_trunc], axis = 1)"
   ]
  },
  {
   "cell_type": "code",
   "execution_count": 8,
   "id": "d363c7bd",
   "metadata": {
    "scrolled": true
   },
   "outputs": [
    {
     "name": "stdout",
     "output_type": "stream",
     "text": [
      "34764    NTSB investigators may not have traveled in support of this investigation and used data provided by various sources to prepare this aircraft accident report.\n",
      "Name: NTSB_input, dtype: object\n"
     ]
    }
   ],
   "source": [
    "# print NTSB_input sample to check that it's being captured correctly\n",
    "print(aviation.NTSB_input.sample())"
   ]
  },
  {
   "cell_type": "markdown",
   "id": "c44c8867",
   "metadata": {},
   "source": [
    "Generate some descriptive stats about the data in the dataset"
   ]
  },
  {
   "cell_type": "code",
   "execution_count": 11,
   "id": "c6a0bce1",
   "metadata": {},
   "outputs": [
    {
     "name": "stdout",
     "output_type": "stream",
     "text": [
      "count    77257.000000\n",
      "mean       124.767594\n",
      "std         92.267201\n",
      "min          0.000000\n",
      "25%         69.000000\n",
      "50%        103.000000\n",
      "75%        157.000000\n",
      "max       2261.000000\n",
      "Name: new_narrative, dtype: float64\n",
      "count    77257.000000\n",
      "mean        16.473213\n",
      "std         16.697115\n",
      "min          0.000000\n",
      "25%          0.000000\n",
      "50%         15.000000\n",
      "75%         26.000000\n",
      "max        260.000000\n",
      "Name: probable_cause_list, dtype: float64\n"
     ]
    },
    {
     "data": {
      "image/png": "[encoded data removed]",
      "text/plain": [
       "<Figure size 432x288 with 1 Axes>"
      ]
     },
     "metadata": {
      "needs_background": "light"
     },
     "output_type": "display_data"
    },
    {
     "data": {
      "image/png": "[encoded data removed]",
      "text/plain": [
       "<Figure size 432x288 with 1 Axes>"
      ]
     },
     "metadata": {
      "needs_background": "light"
     },
     "output_type": "display_data"
    }
   ],
   "source": [
    "word_count_nn = aviation['new_narrative'].apply(lambda x: len(x.split()))\n",
    "word_count_pc = aviation['probable_cause_list'].apply(lambda x: len(x.split()))\n",
    "# descriptive stats about word counts\n",
    "print(word_count_nn.describe())\n",
    "\n",
    "# descriptive stats about word counts in probable cause\n",
    "print(word_count_pc.describe())\n",
    "\n",
    "# histogram of word count distribution in new_narrative\n",
    "plt.figure()\n",
    "sns.histplot(data = word_count_nn)\n",
    "plt.show()\n",
    "\n",
    "# histogram of word count distribution in probable_cause\n",
    "plt.figure()\n",
    "sns.histplot(data = word_count_pc)\n",
    "plt.show()\n",
    "\n"
   ]
  },
  {
   "cell_type": "markdown",
   "id": "50f4efa3",
   "metadata": {},
   "source": [
    "Let's get a sense for the most common words. note that stop word removal, lemmatization has not been done here. In a future cell, the most common words with all the stop words etc removed will be explored"
   ]
  },
  {
   "cell_type": "code",
   "execution_count": 12,
   "id": "fee63991",
   "metadata": {
    "scrolled": true
   },
   "outputs": [
    {
     "data": {
      "text/plain": [
       "[('the', 1138772),\n",
       " ('to', 265824),\n",
       " ('and', 257714),\n",
       " ('a', 239276),\n",
       " ('of', 228124),\n",
       " ('was', 204755),\n",
       " ('pilot', 124790),\n",
       " ('that', 117557),\n",
       " ('he', 112348),\n",
       " ('in', 106530),\n",
       " ('airplane', 105125),\n",
       " ('on', 88689),\n",
       " ('.', 84176),\n",
       " ('at', 78957),\n",
       " ('with', 68360),\n",
       " ('an', 59741),\n",
       " ('engine', 55978),\n",
       " ('landing', 52763),\n",
       " ('during', 52505),\n",
       " ('were', 50363),\n",
       " ('from', 50337),\n",
       " ('had', 49054),\n",
       " ('not', 46978),\n",
       " ('for', 46792),\n",
       " ('flight', 45694),\n",
       " ('fuel', 42529),\n",
       " ('left', 41933),\n",
       " ('about', 40352),\n",
       " ('reported', 39952),\n",
       " ('after', 37443),\n",
       " ('no', 36638),\n",
       " ('right', 35422),\n",
       " ('aircraft', 32525),\n",
       " ('runway', 32046),\n",
       " ('acft', 30677),\n",
       " ('it', 30656),\n",
       " ('stated', 28126),\n",
       " ('as', 27670),\n",
       " ('by', 26839),\n",
       " ('when', 26452),\n",
       " ('his', 26057),\n",
       " ('gear', 25896),\n",
       " ('revealed', 25590),\n",
       " ('feet', 24735),\n",
       " ('power', 24671),\n",
       " ('&', 24497),\n",
       " ('then', 24217),\n",
       " ('accident', 23687),\n",
       " ('or', 23536),\n",
       " ('plt', 22645),\n",
       " ('examination', 21172),\n",
       " ('while', 21053),\n",
       " ('but', 20719),\n",
       " ('which', 19847),\n",
       " ('did', 19666),\n",
       " ('off', 19507),\n",
       " ('ground', 19185),\n",
       " ('wing', 18171),\n",
       " ('control', 17761),\n",
       " ('nose', 17359),\n",
       " ('down', 17104),\n",
       " ('helicopter', 16955),\n",
       " ('into', 16723),\n",
       " ('main', 16359),\n",
       " ('said', 15742),\n",
       " ('time', 15654),\n",
       " ('be', 15497),\n",
       " ('airport', 15496),\n",
       " ('before', 15496),\n",
       " ('there', 15173),\n",
       " ('over', 15086),\n",
       " ('takeoff', 14792),\n",
       " ('have', 14457),\n",
       " ('this', 14194),\n",
       " ('found', 14168),\n",
       " ('approach', 13672),\n",
       " ('been', 13561),\n",
       " ('runway.', 13443),\n",
       " ('would', 13122),\n",
       " ('prior', 12581),\n",
       " ('student', 12549),\n",
       " ('impacted', 12546),\n",
       " ('mechanical', 12415),\n",
       " ('made', 12335),\n",
       " ('lost', 12182),\n",
       " ('collided', 11778),\n",
       " ('approximately', 11756),\n",
       " ('struck', 11674),\n",
       " ('wind', 11293),\n",
       " ('landed', 11234),\n",
       " ('began', 10833),\n",
       " ('loss', 10772),\n",
       " ('damage', 10624),\n",
       " ('according', 10526),\n",
       " ('both', 10360),\n",
       " ('forced', 10245),\n",
       " ('could', 10242),\n",
       " ('two', 10235),\n",
       " ('end', 10207),\n",
       " ('one', 10116)]"
      ]
     },
     "execution_count": 12,
     "metadata": {},
     "output_type": "execute_result"
    }
   ],
   "source": [
    "from collections import Counter\n",
    "Counter(\" \".join(aviation[\"new_narrative\"].str.lower()).split()).most_common(100)"
   ]
  },
  {
   "cell_type": "markdown",
   "id": "181347e8",
   "metadata": {},
   "source": [
    "Perform cleanup of the narrative data"
   ]
  },
  {
   "cell_type": "code",
   "execution_count": 13,
   "id": "637776ca",
   "metadata": {},
   "outputs": [],
   "source": [
    "# create the functions to lemmatize, stem and perform stop word removal on the dataset\n",
    "\n",
    "stemmer = SnowballStemmer(\"english\")\n",
    "\n",
    "def lemmatize_stemming(text):\n",
    "    return stemmer.stem(WordNetLemmatizer().lemmatize(text, pos='v'))\n",
    "\n",
    "# Tokenize and lemmatize and remove stop words\n",
    "def preprocess(text):\n",
    "    result=[]\n",
    "    for token in gensim.utils.simple_preprocess(text) :\n",
    "        if token not in gensim.parsing.preprocessing.STOPWORDS and len(token) > 3:\n",
    "            result.append(lemmatize_stemming(token))\n",
    "            \n",
    "    return result"
   ]
  },
  {
   "cell_type": "code",
   "execution_count": 21,
   "id": "78b4eb5f",
   "metadata": {
    "scrolled": true
   },
   "outputs": [
    {
     "name": "stdout",
     "output_type": "stream",
     "text": [
      "Original document: \n",
      "['The', 'foreign', 'authority', 'was', 'the', 'source', 'of', 'this', 'information.', 'On', 'November', '10,', '2014,', 'about', '1723', 'universal', 'coordinated', 'time,', 'a', 'Beech', 'A36,', 'Brazilian', 'registration', 'PT-WVM,', 'was', 'destroyed', 'when', 'it', 'impacted', 'terrain', 'in', 'Macarani,', 'Brazil', 'after', 'an', 'inflight', 'loss', 'of', 'control.', '', 'The', 'pilot', 'and', 'two', 'passengers', 'were', 'fatally', 'injured.', '', 'The', 'flight', 'originated', 'at', 'Deputado', 'Luis', 'Eduardo', 'Magalhaes', 'International', 'Airport', '(SBSV),', 'Salvador,', 'Brazil,', 'and', 'was', 'destined', 'for', 'Belo', 'Horizonte', '–', 'Pampulha', 'Airport', '(SBBH),', 'Pampulha,', 'Brazil.', '', 'The', 'personal', 'flight', 'was', 'conducted', 'under', 'Brazilian', 'flight', 'regulations.', '', '.']\n",
      "\n",
      "\n",
      "Tokenized and lemmatized document: \n",
      "['foreign', 'author', 'sourc', 'inform', 'novemb', 'univers', 'coordin', 'time', 'beech', 'brazilian', 'registr', 'destroy', 'impact', 'terrain', 'macarani', 'brazil', 'inflight', 'loss', 'control', 'pilot', 'passeng', 'fatal', 'injur', 'flight', 'origin', 'deputado', 'lui', 'eduardo', 'magalha', 'intern', 'airport', 'sbsv', 'salvador', 'brazil', 'destin', 'belo', 'horizont', 'pampulha', 'airport', 'sbbh', 'pampulha', 'brazil', 'person', 'flight', 'conduct', 'brazilian', 'flight', 'regul']\n"
     ]
    }
   ],
   "source": [
    "# Testing a random new_narrative to ensure that preprocessing looks good\n",
    "doc_sample = aviation['new_narrative'][1117]\n",
    "print(\"Original document: \")\n",
    "words = []\n",
    "for word in doc_sample.split(' '):\n",
    "    words.append(word)\n",
    "print(words)\n",
    "\n",
    "print(\"\\n\\nTokenized and lemmatized document: \")\n",
    "print(preprocess(doc_sample))"
   ]
  },
  {
   "cell_type": "code",
   "execution_count": 35,
   "id": "588e8ab7",
   "metadata": {},
   "outputs": [],
   "source": [
    "# preprocessing looks good, going to apply it to the entire new_narrative. probable_cause has been ignored for this analysis\n",
    "processed_new_narratives = []\n",
    "\n",
    "\n",
    "# create processed datasets for new_narrative, narratiev and probable_cause_list\n",
    "for doc in aviation['new_narrative']:\n",
    "    processed_new_narratives.append(preprocess(doc))"
   ]
  },
  {
   "cell_type": "code",
   "execution_count": 36,
   "id": "1f92a3c7",
   "metadata": {},
   "outputs": [
    {
     "name": "stdout",
     "output_type": "stream",
     "text": [
      "37891                                                                                                                                                                                                                                                                                     [foreign, author, sourc, inform, april, atlant, standard, time, dehavilland, oper, dolphin, express, airlin, crash, takeoff, roll, virgin, gorda, airport, british, virgin, island, flight, schedul, intern, passeng, commut, flight, visual, meteorolog, condit, prevail, time, flight, plan, file, airplan, substanti, damag, captain, offic, passeng, report, injuri, passeng, receiv, minor, injuri, flight, origin, time, accid]\n",
      "48835                                                                                                                                                                                                                                                                                                                                                                                                                                                                                          [takeoff, high, altitud, high, densiti, altitud, helicopt, insuffici, power, avail, maintain, flight, grind, effect, helicopt, settl, rough, uneven, terrain, main, rotor, blade, strike, terrain, land, densiti, altitud, feet]\n",
      "40194                                                                                                                                                                                                                                                                                                                                                                       [pilot, maneuv, airplan, order, survey, down, powerlin, wind, northwest, knot, gust, knot, accord, pilot, turn, maneuv, east, southeast, airplan, begin, lose, altitud, turn, continu, right, wing, rais, upward, leav, wing, strike, grind, airplan, come, rest, leav, wing, separ, inspector, report, weather, move, area, accompani, gust, wind]\n",
      "60754                                                                                                                                                                                                                                                                                                                                                                                                                                                                                                                                                                            [pilot, state, gradual, lose, power, final, approach, final, stall, aircraft, pancak, tree, runway, pilot, state, suspect, carburetor, involv]\n",
      "37168    [pilot, purchas, complet, disassembl, helicopt, builder, inform, airplan, record, construct, inspect, keep, train, record, supplier, pilot, receiv, hour, train, helicopt, factori, school, video, tape, helicopt, prior, accid, show, pilot, larg, cyclic, input, maintain, control, hover, practic, helicopt, film, touch, land, oper, limit, issu, author, touch, land, merril, field, helicopt, downwind, traffic, pattern, video, tape, show, nose, pitch, helicopt, roll, right, slight, remain, posit, approxim, second, nose, pitch, helicopt, roll, leav, descend, grind, control, helicopt, blade, instal, helicopt, meet, servic, bulletin, criteria, pilot, purchas, complet, mandatori, servic, bulletin]\n",
      "Name: processed_new_narratives, dtype: object\n"
     ]
    }
   ],
   "source": [
    "# add the processed_new_narratives column to the aviation dataset\n",
    "aviation['processed_new_narratives'] = processed_new_narratives\n",
    "\n",
    "# creating dictionary with words and number of times the word appears using gensim\n",
    "new_narrative_dict = gensim.corpora.Dictionary(processed_new_narratives)\n",
    "\n",
    "print(aviation['processed_new_narratives'].sample(5))"
   ]
  },
  {
   "cell_type": "markdown",
   "id": "8f8576d2",
   "metadata": {},
   "source": [
    "Check out the most common words once data has been processed"
   ]
  },
  {
   "cell_type": "code",
   "execution_count": 37,
   "id": "3c503531",
   "metadata": {
    "scrolled": true
   },
   "outputs": [
    {
     "data": {
      "text/plain": [
       "[('pilot', 144611),\n",
       " ('airplan', 130332),\n",
       " ('land', 93926),\n",
       " ('engin', 67363),\n",
       " ('flight', 63560),\n",
       " ('runway', 54595),\n",
       " ('leav', 48292),\n",
       " ('report', 48059),\n",
       " ('fuel', 47458),\n",
       " ('right', 40530),\n",
       " ('accid', 38596),\n",
       " ('power', 38322),\n",
       " ('aircraft', 38093),\n",
       " ('acft', 33608),\n",
       " ('state', 32053),\n",
       " ('feet', 32009),\n",
       " ('control', 31003),\n",
       " ('gear', 30596),\n",
       " ('grind', 29308),\n",
       " ('airport', 29167),\n",
       " ('reveal', 28403),\n",
       " ('nose', 27543),\n",
       " ('wing', 26530),\n",
       " ('time', 25588),\n",
       " ('examin', 25488),\n",
       " ('takeoff', 25290),\n",
       " ('impact', 24508),\n",
       " ('turn', 22498),\n",
       " ('approach', 21919),\n",
       " ('damag', 21665),\n",
       " ('helicopt', 21169),\n",
       " ('oper', 20861),\n",
       " ('wind', 19089),\n",
       " ('attempt', 17345),\n",
       " ('tank', 17112),\n",
       " ('main', 16637),\n",
       " ('say', 16433),\n",
       " ('degre', 16176),\n",
       " ('area', 16053),\n",
       " ('tree', 15725),\n",
       " ('mechan', 15521),\n",
       " ('lose', 15518),\n",
       " ('roll', 15480),\n",
       " ('wit', 14811),\n",
       " ('field', 14475),\n",
       " ('fli', 14342),\n",
       " ('hour', 14245),\n",
       " ('condit', 13967),\n",
       " ('indic', 13801),\n",
       " ('strike', 13741),\n",
       " ('student', 13422),\n",
       " ('terrain', 13071),\n",
       " ('collid', 12958),\n",
       " ('depart', 12817),\n",
       " ('prior', 12697),\n",
       " ('observ', 12588),\n",
       " ('failur', 12584),\n",
       " ('climb', 12523),\n",
       " ('approxim', 12430),\n",
       " ('begin', 12342),\n",
       " ('come', 12276),\n",
       " ('knot', 12261),\n",
       " ('passeng', 12240),\n",
       " ('posit', 12228),\n",
       " ('altitud', 12152),\n",
       " ('normal', 12063),\n",
       " ('mile', 12056),\n",
       " ('forc', 11615),\n",
       " ('loss', 11532),\n",
       " ('short', 11465),\n",
       " ('malfunct', 11247),\n",
       " ('accord', 11140),\n",
       " ('perform', 11131),\n",
       " ('line', 10979),\n",
       " ('continu', 10858),\n",
       " ('initi', 10798),\n",
       " ('level', 10768),\n",
       " ('inspect', 10684),\n",
       " ('contact', 10406),\n",
       " ('touch', 10368),\n",
       " ('subsequ', 10116),\n",
       " ('substanti', 10005),\n",
       " ('stop', 10002),\n",
       " ('result', 9551),\n",
       " ('weather', 9316),\n",
       " ('appli', 9230),\n",
       " ('near', 9190),\n",
       " ('evid', 9011),\n",
       " ('brake', 8964),\n",
       " ('instructor', 8898),\n",
       " ('departur', 8870),\n",
       " ('follow', 8823),\n",
       " ('crash', 8792),\n",
       " ('locat', 8723),\n",
       " ('start', 8659),\n",
       " ('note', 8659),\n",
       " ('descend', 8585),\n",
       " ('fail', 8560),\n",
       " ('final', 8542),\n",
       " ('light', 8531)]"
      ]
     },
     "execution_count": 37,
     "metadata": {},
     "output_type": "execute_result"
    }
   ],
   "source": [
    "new_narrative_dict.most_common(100)"
   ]
  },
  {
   "cell_type": "markdown",
   "id": "2a4ab4fc",
   "metadata": {},
   "source": [
    "### Task 3: Perform initial exploratory analysis of the narrative text, analyzing the use of words over time"
   ]
  },
  {
   "cell_type": "code",
   "execution_count": 38,
   "id": "d6204f4d",
   "metadata": {
    "scrolled": true
   },
   "outputs": [
    {
     "name": "stdout",
     "output_type": "stream",
     "text": [
      "\n",
      "the decade is:  1940 \n",
      "and the number of entries in this decade is:  1\n",
      "[['creek', 2.0], ['depart', 2.0], ['moos', 2.0], ['pilot', 2.0], ['river', 2.0], ['selway', 2.0], ['terrain', 2.0], ['wreckag', 2.0], ['airstrip', 1.0], ['april', 1.0]]\n",
      "\n",
      "the decade is:  1950 \n",
      "and the number of entries in this decade is:  0\n",
      "[]\n",
      "\n",
      "the decade is:  1960 \n",
      "and the number of entries in this decade is:  1\n",
      "[['airplan', 4.0], ['cross', 2.0], ['flight', 2.0], ['park', 2.0], ['personnel', 2.0], ['terrain', 2.0], ['accid', 1.0], ['aircraft', 1.0], ['area', 1.0], ['august', 1.0]]\n",
      "\n",
      "the decade is:  1970 \n",
      "and the number of entries in this decade is:  3\n",
      "[['pilot', 3.3], ['aircraft', 2.3], ['feet', 1.7], ['mountain', 1.7], ['accid', 1.3], ['flight', 1.3], ['wreckag', 1.3], ['airport', 1.0], ['report', 1.0], ['condit', 1.0]]\n",
      "\n",
      "the decade is:  1980 \n",
      "and the number of entries in this decade is:  24685\n",
      "[['acft', 1.3], ['land', 0.9], ['pilot', 0.7], ['aircraft', 0.5], ['leav', 0.4], ['fuel', 0.4], ['engin', 0.4], ['state', 0.3], ['gear', 0.3], ['report', 0.3]]\n",
      "\n",
      "the decade is:  1990 \n",
      "and the number of entries in this decade is:  22982\n",
      "[['pilot', 2.0], ['airplan', 1.6], ['land', 1.1], ['engin', 0.9], ['flight', 0.7], ['runway', 0.7], ['aircraft', 0.6], ['fuel', 0.6], ['leav', 0.6], ['report', 0.6]]\n",
      "\n",
      "the decade is:  2000 \n",
      "and the number of entries in this decade is:  19974\n",
      "[['airplan', 2.9], ['pilot', 2.7], ['land', 1.5], ['flight', 1.3], ['engin', 1.3], ['runway', 1.1], ['report', 0.9], ['leav', 0.8], ['accid', 0.8], ['fuel', 0.8]]\n",
      "\n",
      "the decade is:  2010 \n",
      "and the number of entries in this decade is:  9608\n",
      "[['airplan', 3.4], ['pilot', 3.0], ['flight', 1.6], ['land', 1.5], ['engin', 1.3], ['report', 1.0], ['runway', 0.9], ['accid', 0.8], ['fuel', 0.8], ['leav', 0.8]]\n"
     ]
    }
   ],
   "source": [
    "# get out the year and decade for the data\n",
    "aviation['year'] = pd.DatetimeIndex(aviation['EventDate']).year\n",
    "aviation['decade'] = ((0.1*aviation['year']).apply(np.floor)*10)\n",
    "\n",
    "# only 3 of the datapoints do not have dates associated with them, so it should be ok to lose this small amount of information for text modeling\n",
    "\n",
    "# for loop that generates the top 10 words used every decade and returns them as the metric number of mentions per document. this allows for comparison across decades \n",
    "for decade in  range(int(min(aviation['decade'])), int(max(aviation['decade'])+10), 10):\n",
    "    aviation_subset = aviation[aviation['decade'] == decade]\n",
    "    no_entries = len(aviation_subset)\n",
    "    decade_dict = gensim.corpora.Dictionary(aviation_subset['processed_new_narratives'])\n",
    "    n = 10 # top n words that will be returned \n",
    "    most_common = list(map(list, decade_dict.most_common(n))) \n",
    "    # divide the most common by the number of entries to get a sense of mentions per document for a given word. if list is empty, don't do the loop\n",
    "    if len(most_common) == n:\n",
    "        for i in range(0,n):\n",
    "            most_common[i][1] = round(most_common[i][1]/no_entries, 1)    \n",
    "    print(\"\\nthe decade is: \",decade, \"\\nand the number of entries in this decade is: \", no_entries)\n",
    "    print(most_common)\n"
   ]
  },
  {
   "cell_type": "markdown",
   "id": "1daf44dc",
   "metadata": {},
   "source": [
    "Interesting to note that although words are relatively similar across decades, in the 1980s acft is the most common word and is just a synonym for aircraft. These words stop showing up as much as time progresses and language used evolves. In the 90s both aircraft and airplane are common words and in the 00s and 10s they stop being used altogether in the top 10.\n",
    "\n",
    "Additionally, many abbreviations exist within the dataset. all of these have not been fully explored or captured but \n",
    "a modified version of this would include those in order to get some discernable topics, this is an indication we may need to trim down the dictionary prior to training the model"
   ]
  },
  {
   "cell_type": "markdown",
   "id": "4cf8f202",
   "metadata": {},
   "source": [
    "### Task 4: Use topic modeling or any other text clustering methodology to cluster/group the incidents based on the narrative text and/or probable cause descriptions. Come up with a short name for each topic or cluster you identify to make it easy to report on."
   ]
  },
  {
   "cell_type": "markdown",
   "id": "d3897288",
   "metadata": {},
   "source": [
    "Prepare data for modeling"
   ]
  },
  {
   "cell_type": "code",
   "execution_count": 39,
   "id": "214d1f80",
   "metadata": {},
   "outputs": [],
   "source": [
    "# filter out overly common words from the texts. i've used 0.1. ideally this will lead to more unique responses that account \n",
    "# for time specific terms used (such as acft which may be decade specific) \n",
    "new_narrative_dict.filter_extremes(no_below=15, no_above=0.1, keep_n= 100000)\n",
    "\n",
    "# create the bag of words\n",
    "bow_corpus_nn = [new_narrative_dict.doc2bow(doc) for doc in processed_new_narratives]"
   ]
  },
  {
   "cell_type": "code",
   "execution_count": 41,
   "id": "5270b25d",
   "metadata": {
    "scrolled": true
   },
   "outputs": [
    {
     "name": "stdout",
     "output_type": "stream",
     "text": [
      "Word 15 (\"local\") appears 1 time.\n",
      "Word 20 (\"privat\") appears 1 time.\n",
      "Word 39 (\"complet\") appears 1 time.\n",
      "Word 208 (\"issu\") appears 2 time.\n",
      "Word 297 (\"inch\") appears 2 time.\n",
      "Word 556 (\"cover\") appears 1 time.\n",
      "Word 973 (\"occur\") appears 1 time.\n",
      "Word 1026 (\"work\") appears 1 time.\n",
      "Word 1039 (\"determin\") appears 1 time.\n",
      "Word 1150 (\"deep\") appears 2 time.\n",
      "Word 1472 (\"sink\") appears 1 time.\n",
      "Word 1684 (\"notam\") appears 2 time.\n",
      "Word 2196 (\"pertain\") appears 1 time.\n",
      "Word 2396 (\"depth\") appears 1 time.\n",
      "Word 2775 (\"snow\") appears 5 time.\n",
      "Word 3402 (\"rancher\") appears 1 time.\n",
      "Word 4804 (\"arpt\") appears 2 time.\n",
      "Word 4855 (\"aprx\") appears 1 time.\n"
     ]
    }
   ],
   "source": [
    "# check out the bow for random observations\n",
    "bow_doc_x = random.choice(bow_corpus_nn)\n",
    "for i in range(len(bow_doc_x)):\n",
    "    print(\"Word {} (\\\"{}\\\") appears {} time.\".format(bow_doc_x[i][0], \n",
    "                                                     new_narrative_dict[bow_doc_x[i][0]], \n",
    "                                                     bow_doc_x[i][1]))"
   ]
  },
  {
   "cell_type": "markdown",
   "id": "7d3924b9",
   "metadata": {},
   "source": [
    "The cell below is commented out but was used to determine the number of topics using the elbow method for the coherence score. Note that this takes quite some time to run. "
   ]
  },
  {
   "cell_type": "code",
   "execution_count": 42,
   "id": "63247ff6",
   "metadata": {},
   "outputs": [],
   "source": [
    "# # Determine optimal number of topics for a given model. Note that this can take quite some time. I've commented this out for the\n",
    "# # time being so that if this code is run locally on your own machine, it doesn't take forever to run\n",
    "# num_of_topics = []\n",
    "# coherence_score = []\n",
    "\n",
    "# for i in range(2,20):\n",
    "#     lda_model = gensim.models.LdaMulticore(bow_corpus_nn, \n",
    "#                                    num_topics = i, \n",
    "#                                    id2word = new_narrative_dict,                                    \n",
    "#                                    passes = 10,\n",
    "#                                    workers = 2)\n",
    "#     num_of_topics.append(i)\n",
    "    \n",
    "#     coherence_model_lda = CoherenceModel(model=lda_model, texts=processed_new_narratives, dictionary=new_narrative_dict, coherence='c_v')\n",
    "#     coherence_lda = coherence_model_lda.get_coherence()\n",
    "#     print('\\nCoherence Score: ', coherence_lda)\n",
    "    \n",
    "#     coherence_score.append(coherence_lda)\n",
    "    \n",
    "# # create plot of number of topics vs complexity\n",
    "# plt.figure()\n",
    "# sns.lineplot(x = num_of_topics, y = coherence_score)\n",
    "# plt.xlabel('Number of Topics')\n",
    "# plt.ylabel('Complexity from c_v method')\n",
    "# plt.show()"
   ]
  },
  {
   "cell_type": "markdown",
   "id": "966f0124",
   "metadata": {},
   "source": [
    "Model looks good around 5 topics. I've set a random state here for reproducibility, but in my experience this doesn't always give reproducible results across machines. The topics detected appear to have the same key words and similar weights but the topic number may be jumbled"
   ]
  },
  {
   "cell_type": "code",
   "execution_count": 43,
   "id": "8a3ae6bc",
   "metadata": {},
   "outputs": [],
   "source": [
    "# Generate the model. A seed has been set using random_state\n",
    "lda_model_final = gensim.models.LdaMulticore(bow_corpus_nn, \n",
    "                                   num_topics = 5, \n",
    "                                   id2word = new_narrative_dict,                                    \n",
    "                                   passes = 10,\n",
    "                                   workers = 2,\n",
    "                                   random_state=122593)"
   ]
  },
  {
   "cell_type": "code",
   "execution_count": 44,
   "id": "ea7b594a",
   "metadata": {
    "scrolled": true
   },
   "outputs": [
    {
     "name": "stdout",
     "output_type": "stream",
     "text": [
      "Topic: 0 \n",
      "Words: 0.043*\"tank\" + 0.015*\"carburetor\" + 0.012*\"quit\" + 0.011*\"gallon\" + 0.010*\"pump\" + 0.010*\"glider\" + 0.010*\"start\" + 0.009*\"water\" + 0.009*\"check\" + 0.009*\"selector\"\n",
      "\n",
      "\n",
      "Topic: 1 \n",
      "Words: 0.018*\"arpt\" + 0.016*\"weather\" + 0.010*\"crash\" + 0.010*\"instrument\" + 0.009*\"cessna\" + 0.009*\"receiv\" + 0.009*\"radar\" + 0.009*\"visibl\" + 0.008*\"plan\" + 0.008*\"cloud\"\n",
      "\n",
      "\n",
      "Topic: 2 \n",
      "Words: 0.033*\"helicopt\" + 0.016*\"crash\" + 0.014*\"rotor\" + 0.010*\"line\" + 0.009*\"attitud\" + 0.009*\"tail\" + 0.008*\"water\" + 0.008*\"maneuv\" + 0.008*\"descend\" + 0.007*\"enter\"\n",
      "\n",
      "\n",
      "Topic: 3 \n",
      "Words: 0.013*\"fail\" + 0.010*\"separ\" + 0.009*\"propel\" + 0.008*\"cylind\" + 0.007*\"instal\" + 0.006*\"door\" + 0.006*\"assembl\" + 0.006*\"mainten\" + 0.006*\"fractur\" + 0.006*\"investig\"\n",
      "\n",
      "\n",
      "Topic: 4 \n",
      "Words: 0.024*\"student\" + 0.015*\"brake\" + 0.013*\"gust\" + 0.012*\"appli\" + 0.011*\"touchdown\" + 0.011*\"instructor\" + 0.010*\"flap\" + 0.010*\"veer\" + 0.010*\"collaps\" + 0.010*\"taxi\"\n",
      "\n",
      "\n"
     ]
    }
   ],
   "source": [
    "# Print out the final topics\n",
    "for idx, topic in lda_model_final.print_topics(-1):\n",
    "    print(\"Topic: {} \\nWords: {}\".format(idx, topic ))\n",
    "    print(\"\\n\") \n",
    "    "
   ]
  },
  {
   "cell_type": "code",
   "execution_count": 47,
   "id": "509f3cdb",
   "metadata": {},
   "outputs": [],
   "source": [
    "# function that generates the top scoring topic and score from the lda model above\n",
    "def topic_assignment(text):\n",
    "    bow_vector =  new_narrative_dict.doc2bow(preprocess(text))\n",
    "    top_topic = sorted(lda_model_final[bow_vector], key=lambda tup: -1*tup[1])\n",
    "    topic = top_topic[0][0]\n",
    "    score = top_topic[0][1]\n",
    "    return topic, score"
   ]
  },
  {
   "cell_type": "markdown",
   "id": "0af868f5",
   "metadata": {},
   "source": [
    "When using 5 topics, there are 4 general themes that emerge that are decipherable. \n",
    "1. Topic 0: Mechanical accident\n",
    "2. Topic 1: Weather accident\n",
    "3. Topic 2: Helicopter accident\n",
    "4. Topic 3: Unknown Topic accident\n",
    "5. Topic 4: Student Pilot accident"
   ]
  },
  {
   "cell_type": "code",
   "execution_count": 59,
   "id": "9c7cad7b",
   "metadata": {},
   "outputs": [
    {
     "name": "stdout",
     "output_type": "stream",
     "text": [
      " THE PILOT AND OPERATOR DID A WALK AROUND PREFLIGHT OF THE HELICOPTER WHILE IT WAS SECURED TO A FLATBED TRAILER.   THE PILOT RELEASED THE LEFT TIE DOWN STRAP ON THE LEFT SKID, BOARDED, AND STARTED THE HELICOPTER.   THE PILOT ATTEMPTED TO HOVER-TAXI OFF THE FLATBED TRAILER.   THE HELICOPTER ROLLED OVER ON ITS RIGHT SIDE AND CRASHED INTO THE GROUND BESIDE THE TRAILER.   THE HELICOPTER'S BLADES CONTACTED THE GROUND AND A VEHICLE WHICH WAS PARKED 30-50 FEET AWAY.   AFTER EXITING THE HELICOPTER, THE PILOT NOTED THE RIGHT REAR SKID TIE DOWN WAS STILL LOCKED OVER THE SKID AND ATTACHED TO THE TRAILER.  .\n"
     ]
    },
    {
     "data": {
      "text/plain": [
       "(2, 0.8086752)"
      ]
     },
     "execution_count": 59,
     "metadata": {},
     "output_type": "execute_result"
    }
   ],
   "source": [
    "# Check out some random narratives and look at what topics the model generates\n",
    "random_doc = random.choice(aviation['new_narrative'])\n",
    "\n",
    "print(random_doc)\n",
    "topic_assignment(random_doc)"
   ]
  },
  {
   "cell_type": "markdown",
   "id": "a2b6b06a",
   "metadata": {},
   "source": [
    "Manual checking indicates that there is definitely room for improvement but topic clusters seemed to be generally assigned correctly"
   ]
  },
  {
   "cell_type": "markdown",
   "id": "7eeeaa90",
   "metadata": {},
   "source": [
    "The cell below is an attempt at evaluating the separation between topic clusters"
   ]
  },
  {
   "cell_type": "code",
   "execution_count": 45,
   "id": "f993424c",
   "metadata": {},
   "outputs": [
    {
     "data": {
      "text/html": [
       "\n",
       "<link rel=\"stylesheet\" type=\"text/css\" href=\"https://cdn.jsdelivr.net/gh/bmabey/pyLDAvis@3.3.1/pyLDAvis/js/ldavis.v1.0.0.css\">\n",
       "\n",
       "\n",
       "<div id=\"ldavis_el862817137909618088449022682\"></div>\n",
       "<script type=\"text/javascript\">\n",
       "\n",
       "var ldavis_el862817137909618088449022682_data = {\"mdsDat\": {\"x\": [-0.2529983583168645, 0.031523696753392116, 0.15395926254789538, -0.030267641205204632, 0.0977830402207816], \"y\": [-0.08778359818690515, 0.20247146785029033, -0.17060030932770534, 0.060862978762573995, -0.004950539098254031], \"topics\": [1, 2, 3, 4, 5], \"cluster\": [1, 1, 1, 1, 1], \"Freq\": [22.564837554609518, 22.42905888797722, 20.311910344404993, 19.72677444047781, 14.967418772530458]}, \"tinfo\": {\"Term\": [\"tank\", \"helicopt\", \"student\", \"arpt\", \"brake\", \"weather\", \"rotor\", \"gust\", \"carburetor\", \"crash\", \"veer\", \"quit\", \"gallon\", \"bounc\", \"radar\", \"water\", \"appli\", \"glider\", \"instructor\", \"touchdown\", \"instrument\", \"cloud\", \"flap\", \"pump\", \"cessna\", \"cylind\", \"selector\", \"brief\", \"wheel\", \"inform\", \"arpt\", \"radar\", \"cloud\", \"ceil\", \"file\", \"meteorolog\", \"overcast\", \"prevail\", \"injur\", \"obscur\", \"thunderstorm\", \"forecast\", \"acknowledg\", \"ctlr\", \"shower\", \"rule\", \"brief\", \"coordin\", \"converg\", \"freq\", \"registr\", \"altimet\", \"daylight\", \"info\", \"artcc\", \"inbound\", \"fatal\", \"clrd\", \"cancel\", \"communic\", \"inform\", \"weather\", \"visibl\", \"instrument\", \"author\", \"radio\", \"foreign\", \"request\", \"advis\", \"plan\", \"cessna\", \"mountain\", \"rout\", \"vector\", \"sourc\", \"apch\", \"rain\", \"receiv\", \"visual\", \"tower\", \"destin\", \"night\", \"turbul\", \"injuri\", \"crash\", \"locat\", \"traffic\", \"light\", \"clear\", \"aprx\", \"head\", \"departur\", \"local\", \"encount\", \"veer\", \"bounc\", \"student\", \"brake\", \"taxiway\", \"crosswind\", \"drift\", \"gust\", \"balloon\", \"swerv\", \"snowbank\", \"tailwheel\", \"porpois\", \"basket\", \"asphalt\", \"turf\", \"sock\", \"groundloop\", \"windsock\", \"vasi\", \"stearman\", \"crab\", \"gondola\", \"hydroplan\", \"taylorcraft\", \"overcorrect\", \"grass\", \"deflat\", \"weathervan\", \"ski\", \"solo\", \"abort\", \"devil\", \"tailwind\", \"strip\", \"instructor\", \"flare\", \"nosewheel\", \"touchdown\", \"rudder\", \"appli\", \"loop\", \"gravel\", \"flap\", \"taxi\", \"correct\", \"wheel\", \"airstrip\", \"snow\", \"soft\", \"collaps\", \"hard\", \"lift\", \"plane\", \"final\", \"encount\", \"direct\", \"go\", \"rest\", \"high\", \"airspe\", \"unabl\", \"stall\", \"fractur\", \"fatigu\", \"bolt\", \"crack\", \"connect\", \"overhaul\", \"hydraul\", \"door\", \"tube\", \"piston\", \"crankshaft\", \"actuat\", \"turbin\", \"metallurg\", \"ring\", \"metal\", \"extinguish\", \"bulletin\", \"breaker\", \"compressor\", \"thread\", \"lubric\", \"screw\", \"cylind\", \"stage\", \"clamp\", \"crankcas\", \"overheat\", \"flang\", \"latch\", \"corros\", \"bear\", \"materi\", \"mainten\", \"wear\", \"attach\", \"hole\", \"case\", \"assembl\", \"shaft\", \"cabl\", \"instal\", \"smoke\", \"lock\", \"number\", \"separ\", \"vibrat\", \"manufactur\", \"propel\", \"fail\", \"replac\", \"extend\", \"pressur\", \"blade\", \"break\", \"emerg\", \"investig\", \"retract\", \"open\", \"light\", \"evid\", \"note\", \"helicopt\", \"rotor\", \"autorot\", \"hover\", \"collect\", \"gross\", \"blood\", \"boom\", \"alcohol\", \"ultralight\", \"canyon\", \"toxicolog\", \"swath\", \"aerobat\", \"boat\", \"drug\", \"gyrocopt\", \"urin\", \"helipad\", \"autopsi\", \"tailboom\", \"fertil\", \"gyroplan\", \"marijuana\", \"steepli\", \"impair\", \"aerial\", \"rotorcraft\", \"coronari\", \"heart\", \"weight\", \"cyclic\", \"medic\", \"dive\", \"friend\", \"steep\", \"spray\", \"spin\", \"river\", \"load\", \"attitud\", \"powerlin\", \"maneuv\", \"tail\", \"applic\", \"crash\", \"pitch\", \"water\", \"wire\", \"pass\", \"bank\", \"enter\", \"descend\", \"line\", \"stall\", \"wreckag\", \"evid\", \"hear\", \"high\", \"blade\", \"preimpact\", \"take\", \"descent\", \"site\", \"tank\", \"carburetor\", \"quit\", \"gallon\", \"glider\", \"selector\", \"restart\", \"drain\", \"mixtur\", \"gaug\", \"carb\", \"boost\", \"quantiti\", \"banner\", \"gal\", \"lean\", \"bowl\", \"usabl\", \"gascol\", \"rich\", \"consumpt\", \"capac\", \"unus\", \"strainer\", \"ounc\", \"gag\", \"auxiliari\", \"gage\", \"quart\", \"gasolin\", \"vent\", \"heat\", \"sump\", \"pump\", \"magneto\", \"refuel\", \"contamin\", \"sputter\", \"switch\", \"glide\", \"rough\", \"contain\", \"exhaust\", \"flow\", \"road\", \"select\", \"check\", \"emerg\", \"water\", \"throttl\", \"start\", \"cruis\", \"minut\", \"post\", \"run\", \"line\", \"test\", \"unabl\", \"total\", \"return\", \"note\", \"experi\", \"crash\", \"evid\", \"fail\"], \"Freq\": [16517.0, 16521.0, 13797.0, 10563.0, 8735.0, 9443.0, 7124.0, 7484.0, 5785.0, 16547.0, 5615.0, 4394.0, 4193.0, 5089.0, 4908.0, 8201.0, 8413.0, 3744.0, 6811.0, 7288.0, 5911.0, 4607.0, 7257.0, 4549.0, 6542.0, 4060.0, 3364.0, 4260.0, 6620.0, 4636.0, 10562.52777296432, 4907.271426549042, 4606.943516406059, 2484.108739413279, 2470.826317597231, 1978.3367912258918, 1765.6177287731873, 1732.8461097568702, 2986.2648904911384, 1576.1060222455465, 1561.8912544899174, 1227.5130069278866, 890.2284111015674, 818.3475057758956, 813.6016551422076, 793.32717330471, 4253.898305349684, 655.658484573116, 639.1886877605249, 628.2520975047993, 600.5201176484951, 597.1781311782393, 584.8048702622825, 588.8990676102652, 562.268544168895, 658.9236330162457, 1537.7222873592893, 522.5176603330369, 509.7041175216475, 1387.0235396189996, 4467.30597015679, 8910.927654094929, 4898.163113629188, 5476.326639352094, 2416.014211617355, 4032.3399298877425, 1992.6225172291797, 2498.9728219059616, 3555.0675400398113, 4669.766287384373, 5435.361681279806, 4196.905335712941, 4380.708578166194, 1806.6155601579505, 2148.136537090274, 4355.8344383935755, 2331.163381391173, 5075.32995590307, 3380.545262212582, 3092.407203955589, 3920.4191295207047, 3633.1261559307472, 2635.925714303119, 2638.741594142426, 5805.4264485289395, 3545.92528475667, 2980.8359832041374, 3591.0202533791494, 3298.9435446673474, 3184.3968882428694, 3016.5174248998824, 3118.6045613709953, 2900.226077549911, 3025.5829757872493, 5614.7542176175575, 5088.911301182764, 13794.364492753855, 8733.023348118368, 3354.6246062256673, 3140.3683980313526, 3076.2747309244196, 7481.547257841936, 2386.50943230723, 1595.3861784171982, 1516.6338281744572, 1166.1335157313401, 719.1191259705554, 591.7527306118883, 535.780354379454, 525.3433199184743, 394.82257609309045, 365.08252028633063, 352.54193378019824, 292.19758162605086, 250.1502337847709, 207.26013021150789, 169.36101077934788, 161.8052983605463, 149.1592138064014, 138.0142515798985, 3797.041379763749, 136.6981327146392, 123.49813359820749, 122.6364167754422, 2958.28507645637, 3434.4742424295437, 173.96774227248832, 1281.5437977167262, 3478.739191118588, 6062.957477732432, 2693.50881843734, 1020.1012381667153, 6262.137792380102, 3925.263780373177, 6910.505351454484, 2058.694288420508, 1018.541846182243, 5791.40331049844, 5503.570897397237, 2792.8848582246355, 4872.315208048205, 2605.2103061390585, 4754.509652156857, 3118.4083334650113, 5513.719431058364, 4599.651136263765, 3509.023008504261, 5269.205173966025, 5204.715947290969, 4676.330185868888, 4534.106729867701, 4021.926956285612, 3553.3851867446374, 3756.6159357342576, 3258.979152748073, 3487.849812601975, 3293.935832996926, 3155.8479254489157, 3100.0365871174886, 3036.8806260128144, 2829.8817832344616, 2208.235452216363, 1930.1896716566507, 1712.9076593179357, 3318.758101253306, 1529.854442364242, 1342.072653868468, 1288.1460079542715, 1230.117497639542, 1155.0163300119787, 1073.213124937492, 970.5317307874892, 1219.383724441514, 794.4996787368663, 731.3166525445052, 704.5675647926079, 675.2806739852781, 608.9374680099669, 590.6012921146346, 574.7128226050572, 4052.9884608488937, 539.554431674953, 504.5845340444274, 467.5185055171985, 444.960025581127, 435.8958374978585, 427.0361712605433, 994.9517173823392, 2199.5779922563875, 1142.2650650331373, 3197.3970451729056, 2121.089478543223, 2810.324190004144, 2029.7261627620867, 992.6156995917718, 3238.314646184204, 1684.7404812605284, 2552.495428500079, 3446.1968934246543, 2221.8425754125, 2735.267288831108, 2652.451248030742, 5178.168599062779, 1943.4094633756704, 2029.104026613126, 4622.205988050023, 6881.8275766163815, 1534.6619236730896, 2982.5466806012514, 2840.0611431473853, 2890.2605054746346, 2912.330701156516, 2916.3223805778443, 3143.0777750533325, 2220.983469384682, 2201.6729503326246, 2352.3667875801434, 2293.0579181839103, 2163.317992112791, 16520.682176693397, 7122.868850160248, 2723.7985673663347, 1771.4377620617868, 1662.629952197163, 1576.5308669081965, 1517.5773664851322, 1489.0631879674697, 1340.343846049907, 1286.2066504054285, 1233.8042917843086, 1088.085224912799, 1093.5579639832538, 948.9167741350451, 587.2942606935029, 405.17772895172277, 400.30856129414235, 396.3817255651589, 376.32849908167015, 372.0732417646788, 362.273690651522, 363.46567555782383, 351.05020049671793, 328.8864016648622, 302.4094007911945, 286.7445526205298, 2248.7237874473312, 247.5582934261946, 237.9770572414823, 227.83973861695947, 2553.0992492469672, 911.2125739432406, 1881.1952345636416, 1363.8954560884285, 983.9235071976005, 3199.0801258396377, 2460.9360615870587, 3055.7954383548454, 1663.6366249668788, 3210.417198169254, 4677.438376368629, 1106.7344308537977, 4068.7491358635207, 4476.867851659994, 2018.786502362685, 7961.214530753089, 2686.9681525964975, 4171.6332658556585, 3064.487848022186, 3139.667156459478, 2788.685677705453, 3745.238596932304, 3986.0358449591317, 4980.617326330336, 3741.0102675569883, 3144.366053075877, 3662.033009515024, 3007.4398645478086, 3298.9782333188436, 2679.391412530037, 2366.420738665985, 2887.8534012742184, 2627.722007948281, 2391.9075389598556, 16516.79843904274, 5784.481089592389, 4393.110154223978, 4192.182323677792, 3743.0198685418604, 3363.3150023310814, 2696.4170586839878, 2183.05346295451, 2160.420828453164, 1673.8672288143866, 1127.3476425614242, 1040.069521989375, 1039.2308232251908, 862.0327962041378, 700.6384173296385, 661.4122314861113, 624.4426523312317, 610.134648192019, 585.326998865525, 572.3055845130523, 473.02074036246813, 461.74785604293555, 446.17617520412534, 391.39714423172126, 383.1661605874448, 359.0279545516399, 699.0954402912179, 444.471299698913, 303.0213892830515, 277.60891423076896, 688.7951433940074, 3160.0495937031933, 682.8963308746992, 3788.6237371301772, 1764.3660341884472, 2395.7046393631986, 1150.688854310803, 1042.5271167828405, 3009.5245274431613, 1436.765173585, 2715.072654911035, 1665.3696201560892, 2242.526618758204, 1066.7206776461906, 2585.945132412532, 1366.2562418103455, 3464.3559551178964, 3214.811251503141, 3524.1739152116643, 2578.7932355105067, 3635.936951840244, 2386.4083966037283, 2874.29529858988, 2721.486014706404, 1738.999961461577, 3314.8984525775677, 2355.5460193989957, 2709.81354742038, 2061.538935537201, 2457.100721714157, 2275.5430920702297, 2208.1897843395113, 2456.2099034326043, 2240.916586592421, 2221.3689311429316], \"Total\": [16517.0, 16521.0, 13797.0, 10563.0, 8735.0, 9443.0, 7124.0, 7484.0, 5785.0, 16547.0, 5615.0, 4394.0, 4193.0, 5089.0, 4908.0, 8201.0, 8413.0, 3744.0, 6811.0, 7288.0, 5911.0, 4607.0, 7257.0, 4549.0, 6542.0, 4060.0, 3364.0, 4260.0, 6620.0, 4636.0, 10563.638920700356, 4908.295474366109, 4607.971202296776, 2485.134934620227, 2471.853909001729, 1979.3600379390189, 1766.6440455068494, 1733.8816348131954, 2988.1338697496662, 1577.1661307189472, 1563.0913197381658, 1228.5366958265993, 891.2574077079977, 819.3699606440541, 814.6370522610151, 794.3510213610749, 4260.425735702667, 656.6838773399473, 640.2176299172469, 629.2801664202987, 601.5416689809472, 598.2054710633635, 585.8282847501118, 589.939053647445, 563.2934657767408, 660.1370120390766, 1540.5627250901634, 523.5469869437317, 510.7347422737867, 1390.0167544341546, 4636.398520089645, 9443.978196943202, 5233.1572771622605, 5911.609854202914, 2545.140117278444, 4351.096935752559, 2098.262543765269, 2723.916612737218, 4010.487453591362, 5449.289339353033, 6542.376501632572, 5119.667095763719, 5438.843043074722, 1998.5767844474876, 2440.406453894724, 5789.474690445538, 2722.275019998505, 7241.1466191189675, 4441.022642580851, 3982.0863394888247, 5648.274164601909, 5080.698461518873, 3427.7028182999156, 3502.0038043820787, 16547.844272108763, 7354.942201208835, 5492.057377728817, 9712.473981771907, 8335.150845791262, 7359.085771586631, 6218.292088069999, 8233.096395542529, 5635.900863024737, 7974.141249598801, 5615.83440544561, 5089.992708540892, 13797.575410264735, 8735.642142031664, 3355.7060311646096, 3141.4461151615524, 3077.3535461516462, 7484.637345837882, 2387.586655939365, 1596.4708196244596, 1517.7127575143734, 1167.2101939597094, 720.1980540110852, 592.8301429321988, 536.8586564228727, 526.4207190930202, 395.9032383451847, 366.1639959560072, 353.61663003741376, 293.28032972397006, 251.24038114937474, 208.33672698150139, 170.44729645858908, 162.8835249287302, 150.2527122186791, 139.09023116047405, 3827.0851760536566, 137.78829181812807, 124.57200552183666, 123.74565709420231, 3036.765993160288, 3561.6965874547673, 176.20348199679245, 1363.4458780634561, 3822.5725088893623, 6811.4639515471645, 2984.3900164195265, 1093.3027275414206, 7288.6729579658695, 4476.012924386103, 8413.336488737497, 2320.265100301138, 1099.9083390840963, 7257.318818204254, 7259.206049785311, 3473.1219553081687, 6620.36818312667, 3227.3408248819014, 6510.000527079821, 4067.746490965915, 8155.710735511295, 6944.963397345727, 5034.654303660054, 9088.404026946493, 9176.907245652968, 7974.141249598801, 7689.790170266966, 7564.857673423584, 6335.851567056414, 9074.679549328803, 5174.128346455112, 8159.321604316758, 7763.329526085751, 3156.8614350453563, 3101.051022982796, 3037.8927452101284, 2830.8951818752503, 2209.265989721316, 1931.204256486943, 1713.9214584724052, 3320.8064956268104, 1530.8739319101198, 1343.08596773807, 1289.1578905089223, 1231.1315457759442, 1156.035064277466, 1074.2248693450365, 971.5500153092347, 1220.9288719937126, 795.5219386130054, 732.3287816988885, 705.58501557508, 676.2943011553161, 609.949315152092, 591.6152480719951, 575.7282864590818, 4060.2766545463746, 540.5720302745405, 505.59759263836423, 468.5307414066888, 445.9798060297343, 436.9073682962174, 428.05042632484054, 999.0184101447775, 2230.7067022397505, 1159.5822640124272, 3382.321989014023, 2219.7842666387037, 2974.0461811334294, 2163.3998702531057, 1020.604844769854, 3561.189415151463, 1799.503113211617, 2814.8469319639307, 3911.906344344727, 2467.1431481624118, 3181.559454607914, 3177.6366176791753, 7416.064336514649, 2270.2970964978967, 2416.699918432284, 7363.574986199985, 12839.160588659028, 1725.7194553947775, 4929.678164752569, 4959.1710253382225, 5570.405716780257, 6116.8869924076325, 6893.357242044443, 9731.384527119668, 3777.715453928774, 5551.181479818059, 9712.473981771907, 9393.36519175665, 7494.1447644857035, 16521.728448132068, 7124.994663648248, 2725.146585854789, 1772.482568722592, 1663.6856709886538, 1577.5810576256797, 1518.6236101119316, 1490.1101547428673, 1341.3944664902115, 1287.2711616141546, 1234.8592043034132, 1089.1296469036172, 1094.6142881018923, 949.9646071090287, 588.3485117986719, 406.22459691527996, 401.3533663308053, 397.4254210557949, 377.37319099005657, 373.12088611041287, 363.31966031143696, 364.5168010791453, 352.0934826277863, 329.9372030727798, 303.46422266037797, 287.7899347990907, 2257.434030454758, 248.60412649352162, 239.0199961302006, 228.8832758638615, 2603.0482349954277, 929.6186532650737, 1968.8296134327893, 1421.4478145129958, 1031.4565440847455, 3574.312851232537, 2729.605580126604, 3475.0352528929106, 2009.0904225603024, 4253.243798315056, 6529.302034620821, 1271.0708132323819, 5740.256746018348, 6895.611695496537, 2840.77691337054, 16547.844272108763, 4111.345680281587, 8201.462454835315, 5279.381177219164, 5542.215809812212, 4746.264251335599, 7595.427957387714, 8409.65090730367, 12051.966084753709, 7763.329526085751, 6837.203688518437, 9393.36519175665, 7049.349130848973, 9074.679549328803, 5570.405716780257, 4388.564300125599, 8336.809240355102, 6503.299096239163, 6322.634277294657, 16517.861129552966, 5785.543792935173, 4394.177427291009, 4193.245450876738, 3744.088968318766, 3364.379281617234, 2697.481099118044, 2184.117732199039, 2161.4892712122273, 1674.9341644431286, 1128.41677332137, 1041.1335849534994, 1040.3264996398414, 863.1019788401397, 701.7060361203032, 662.4876322840249, 625.5083402947922, 611.2025744093793, 586.3889424422777, 573.3693948493229, 474.08555989772066, 462.8136667118683, 447.2446948532196, 392.45913362172513, 384.2286824238719, 360.09664010907255, 701.5104606379169, 446.0151579656782, 304.08804595080505, 278.6745832175702, 721.5060618991023, 3642.99817347357, 717.7589091246091, 4549.852921527089, 2014.8047713035164, 2832.6076950908478, 1287.175587887813, 1159.3050882384669, 3928.3646165642544, 1707.6594819253853, 3675.5714128500636, 2413.4393634569838, 3791.587480790169, 1346.8568856436184, 4807.80027386938, 1926.8927899627388, 7474.533448739792, 6893.357242044443, 8201.462454835315, 5330.089562298892, 9697.03272799242, 4938.728145321393, 6901.171028529989, 6837.337417740588, 3002.3490982467656, 12051.966084753709, 5917.410881078613, 8159.321604316758, 4382.658964879072, 8358.510961461576, 7494.1447644857035, 6892.100840149162, 16547.844272108763, 9393.36519175665, 12839.160588659028], \"Category\": [\"Default\", \"Default\", \"Default\", \"Default\", \"Default\", \"Default\", \"Default\", \"Default\", \"Default\", \"Default\", \"Default\", \"Default\", \"Default\", \"Default\", \"Default\", \"Default\", \"Default\", \"Default\", \"Default\", \"Default\", \"Default\", \"Default\", \"Default\", \"Default\", \"Default\", \"Default\", \"Default\", \"Default\", \"Default\", \"Default\", \"Topic1\", \"Topic1\", \"Topic1\", \"Topic1\", \"Topic1\", \"Topic1\", \"Topic1\", \"Topic1\", \"Topic1\", \"Topic1\", \"Topic1\", \"Topic1\", \"Topic1\", \"Topic1\", \"Topic1\", \"Topic1\", \"Topic1\", \"Topic1\", \"Topic1\", \"Topic1\", \"Topic1\", \"Topic1\", \"Topic1\", \"Topic1\", \"Topic1\", \"Topic1\", \"Topic1\", \"Topic1\", \"Topic1\", \"Topic1\", \"Topic1\", \"Topic1\", \"Topic1\", \"Topic1\", \"Topic1\", \"Topic1\", \"Topic1\", \"Topic1\", \"Topic1\", \"Topic1\", \"Topic1\", \"Topic1\", \"Topic1\", \"Topic1\", \"Topic1\", \"Topic1\", \"Topic1\", \"Topic1\", \"Topic1\", \"Topic1\", \"Topic1\", \"Topic1\", \"Topic1\", \"Topic1\", \"Topic1\", \"Topic1\", \"Topic1\", \"Topic1\", \"Topic1\", \"Topic1\", \"Topic1\", \"Topic1\", \"Topic1\", \"Topic1\", \"Topic2\", \"Topic2\", \"Topic2\", \"Topic2\", \"Topic2\", \"Topic2\", \"Topic2\", \"Topic2\", \"Topic2\", \"Topic2\", \"Topic2\", \"Topic2\", \"Topic2\", \"Topic2\", \"Topic2\", \"Topic2\", \"Topic2\", \"Topic2\", \"Topic2\", \"Topic2\", \"Topic2\", \"Topic2\", \"Topic2\", \"Topic2\", \"Topic2\", \"Topic2\", \"Topic2\", \"Topic2\", \"Topic2\", \"Topic2\", \"Topic2\", \"Topic2\", \"Topic2\", \"Topic2\", \"Topic2\", \"Topic2\", \"Topic2\", \"Topic2\", \"Topic2\", \"Topic2\", \"Topic2\", \"Topic2\", \"Topic2\", \"Topic2\", \"Topic2\", \"Topic2\", \"Topic2\", \"Topic2\", \"Topic2\", \"Topic2\", \"Topic2\", \"Topic2\", \"Topic2\", \"Topic2\", \"Topic2\", \"Topic2\", \"Topic2\", \"Topic2\", \"Topic2\", \"Topic2\", \"Topic2\", \"Topic2\", \"Topic2\", \"Topic3\", \"Topic3\", \"Topic3\", \"Topic3\", \"Topic3\", \"Topic3\", \"Topic3\", \"Topic3\", \"Topic3\", \"Topic3\", \"Topic3\", \"Topic3\", \"Topic3\", \"Topic3\", \"Topic3\", \"Topic3\", \"Topic3\", \"Topic3\", \"Topic3\", \"Topic3\", \"Topic3\", \"Topic3\", \"Topic3\", \"Topic3\", \"Topic3\", \"Topic3\", \"Topic3\", \"Topic3\", \"Topic3\", \"Topic3\", \"Topic3\", \"Topic3\", \"Topic3\", \"Topic3\", \"Topic3\", \"Topic3\", \"Topic3\", \"Topic3\", \"Topic3\", \"Topic3\", \"Topic3\", \"Topic3\", \"Topic3\", \"Topic3\", \"Topic3\", \"Topic3\", \"Topic3\", \"Topic3\", \"Topic3\", \"Topic3\", \"Topic3\", \"Topic3\", \"Topic3\", \"Topic3\", \"Topic3\", \"Topic3\", \"Topic3\", \"Topic3\", \"Topic3\", \"Topic3\", \"Topic3\", \"Topic3\", \"Topic4\", \"Topic4\", \"Topic4\", \"Topic4\", \"Topic4\", \"Topic4\", \"Topic4\", \"Topic4\", \"Topic4\", \"Topic4\", \"Topic4\", \"Topic4\", \"Topic4\", \"Topic4\", \"Topic4\", \"Topic4\", \"Topic4\", \"Topic4\", \"Topic4\", \"Topic4\", \"Topic4\", \"Topic4\", \"Topic4\", \"Topic4\", \"Topic4\", \"Topic4\", \"Topic4\", \"Topic4\", \"Topic4\", \"Topic4\", \"Topic4\", \"Topic4\", \"Topic4\", \"Topic4\", \"Topic4\", \"Topic4\", \"Topic4\", \"Topic4\", \"Topic4\", \"Topic4\", \"Topic4\", \"Topic4\", \"Topic4\", \"Topic4\", \"Topic4\", \"Topic4\", \"Topic4\", \"Topic4\", \"Topic4\", \"Topic4\", \"Topic4\", \"Topic4\", \"Topic4\", \"Topic4\", \"Topic4\", \"Topic4\", \"Topic4\", \"Topic4\", \"Topic4\", \"Topic4\", \"Topic4\", \"Topic4\", \"Topic4\", \"Topic4\", \"Topic5\", \"Topic5\", \"Topic5\", \"Topic5\", \"Topic5\", \"Topic5\", \"Topic5\", \"Topic5\", \"Topic5\", \"Topic5\", \"Topic5\", \"Topic5\", \"Topic5\", \"Topic5\", \"Topic5\", \"Topic5\", \"Topic5\", \"Topic5\", \"Topic5\", \"Topic5\", \"Topic5\", \"Topic5\", \"Topic5\", \"Topic5\", \"Topic5\", \"Topic5\", \"Topic5\", \"Topic5\", \"Topic5\", \"Topic5\", \"Topic5\", \"Topic5\", \"Topic5\", \"Topic5\", \"Topic5\", \"Topic5\", \"Topic5\", \"Topic5\", \"Topic5\", \"Topic5\", \"Topic5\", \"Topic5\", \"Topic5\", \"Topic5\", \"Topic5\", \"Topic5\", \"Topic5\", \"Topic5\", \"Topic5\", \"Topic5\", \"Topic5\", \"Topic5\", \"Topic5\", \"Topic5\", \"Topic5\", \"Topic5\", \"Topic5\", \"Topic5\", \"Topic5\", \"Topic5\", \"Topic5\", \"Topic5\", \"Topic5\", \"Topic5\", \"Topic5\"], \"logprob\": [30.0, 29.0, 28.0, 27.0, 26.0, 25.0, 24.0, 23.0, 22.0, 21.0, 20.0, 19.0, 18.0, 17.0, 16.0, 15.0, 14.0, 13.0, 12.0, 11.0, 10.0, 9.0, 8.0, 7.0, 6.0, 5.0, 4.0, 3.0, 2.0, 1.0, -3.9952, -4.7618, -4.825, -5.4426, -5.448, -5.6703, -5.784, -5.8028, -5.2585, -5.8976, -5.9066, -6.1475, -6.4688, -6.553, -6.5588, -6.584, -4.9047, -6.7746, -6.8001, -6.8173, -6.8625, -6.8681, -6.889, -6.882, -6.9283, -6.7697, -5.9222, -7.0016, -7.0265, -6.0254, -4.8557, -4.1653, -4.7637, -4.6521, -5.4704, -4.9582, -5.6631, -5.4366, -5.0842, -4.8114, -4.6596, -4.9182, -4.8753, -5.7611, -5.5879, -4.881, -5.5062, -4.7281, -5.1345, -5.2236, -4.9863, -5.0624, -5.3833, -5.3822, -4.5937, -5.0867, -5.2603, -5.0741, -5.1589, -5.1943, -5.2484, -5.2151, -5.2877, -5.2454, -4.6211, -4.7194, -3.7222, -4.1794, -5.1362, -5.2022, -5.2228, -4.3341, -5.4767, -5.8794, -5.93, -6.1928, -6.6762, -6.8712, -6.9705, -6.9902, -7.2758, -7.3541, -7.3891, -7.5768, -7.7322, -7.9203, -8.1222, -8.1679, -8.2492, -8.3269, -5.0123, -8.3365, -8.438, -8.445, -5.2619, -5.1126, -8.0954, -6.0984, -5.0998, -4.5443, -5.3556, -6.3266, -4.512, -4.9791, -4.4135, -5.6244, -6.3281, -4.5901, -4.6411, -5.3194, -4.7629, -5.389, -4.7874, -5.2092, -4.6393, -4.8205, -5.0912, -4.6846, -4.6969, -4.804, -4.8349, -4.9547, -5.0786, -5.023, -5.1651, -5.0972, -5.1544, -5.0981, -5.1159, -5.1365, -5.2071, -5.4551, -5.5897, -5.7092, -5.0478, -5.8222, -5.9531, -5.9941, -6.0402, -6.1032, -6.1767, -6.2773, -6.049, -6.4774, -6.5603, -6.5975, -6.64, -6.7434, -6.774, -6.8012, -4.8479, -6.8644, -6.9314, -7.0077, -7.0571, -7.0777, -7.0982, -6.2524, -5.4591, -6.1143, -5.085, -5.4954, -5.214, -5.5394, -6.2548, -5.0723, -5.7257, -5.3103, -5.0101, -5.449, -5.2411, -5.2719, -4.6029, -5.5829, -5.5397, -4.7165, -4.3185, -5.819, -5.1546, -5.2035, -5.186, -5.1784, -5.177, -5.1021, -5.4494, -5.4581, -5.3919, -5.4175, -5.4757, -3.4135, -4.2548, -5.2161, -5.6463, -5.7097, -5.7629, -5.801, -5.82, -5.9252, -5.9664, -6.008, -6.1337, -6.1287, -6.2705, -6.7503, -7.1215, -7.1336, -7.1435, -7.1954, -7.2068, -7.2335, -7.2302, -7.2649, -7.3302, -7.4141, -7.4673, -5.4077, -7.6142, -7.6537, -7.6972, -5.2808, -6.3111, -5.5862, -5.9078, -6.2343, -5.0552, -5.3176, -5.1011, -5.7091, -5.0517, -4.6754, -6.1167, -4.8148, -4.7192, -5.5156, -4.1435, -5.2297, -4.7898, -5.0982, -5.074, -5.1925, -4.8976, -4.8353, -4.6126, -4.8988, -5.0725, -4.9201, -5.117, -5.0245, -5.2325, -5.3567, -5.1576, -5.252, -5.346, -3.1376, -4.1868, -4.462, -4.5088, -4.6221, -4.7291, -4.9501, -5.1613, -5.1717, -5.4269, -5.8221, -5.9027, -5.9035, -6.0905, -6.2978, -6.3554, -6.4129, -6.4361, -6.4776, -6.5001, -6.6906, -6.7147, -6.7491, -6.88, -6.9013, -6.9664, -6.3, -6.7529, -7.136, -7.2236, -6.3148, -4.7914, -6.3234, -4.61, -5.3742, -5.0683, -5.8017, -5.9004, -4.8402, -5.5796, -4.9432, -5.432, -5.1344, -5.8774, -4.9919, -5.6299, -4.6995, -4.7742, -4.6824, -4.9947, -4.6511, -5.0722, -4.8862, -4.9408, -5.3887, -4.7436, -5.0852, -4.9451, -5.2186, -5.043, -5.1198, -5.1498, -5.0434, -5.1351, -5.1439], \"loglift\": [30.0, 29.0, 28.0, 27.0, 26.0, 25.0, 24.0, 23.0, 22.0, 21.0, 20.0, 19.0, 18.0, 17.0, 16.0, 15.0, 14.0, 13.0, 12.0, 11.0, 10.0, 9.0, 8.0, 7.0, 6.0, 5.0, 4.0, 3.0, 2.0, 1.0, 1.4887, 1.4886, 1.4886, 1.4884, 1.4884, 1.4883, 1.4882, 1.4882, 1.4882, 1.4881, 1.488, 1.4879, 1.4876, 1.4875, 1.4875, 1.4875, 1.4872, 1.4872, 1.4872, 1.4871, 1.4871, 1.4871, 1.487, 1.487, 1.487, 1.4869, 1.4869, 1.4868, 1.4868, 1.4866, 1.4516, 1.4307, 1.4226, 1.4123, 1.4367, 1.4127, 1.4371, 1.4026, 1.3682, 1.3344, 1.3034, 1.29, 1.2724, 1.3878, 1.3612, 1.2043, 1.3337, 1.1334, 1.2159, 1.2359, 1.1236, 1.1534, 1.2261, 1.2057, 0.4413, 0.7592, 0.8777, 0.4938, 0.5619, 0.6511, 0.7654, 0.518, 0.8244, 0.5197, 1.4946, 1.4946, 1.4946, 1.4945, 1.4945, 1.4945, 1.4945, 1.4944, 1.4944, 1.4941, 1.4941, 1.4939, 1.4933, 1.493, 1.4928, 1.4928, 1.4921, 1.4919, 1.4918, 1.4911, 1.4905, 1.4896, 1.4884, 1.4882, 1.4875, 1.487, 1.4869, 1.4869, 1.4862, 1.4858, 1.4686, 1.4584, 1.482, 1.4329, 1.4006, 1.3784, 1.3923, 1.4255, 1.343, 1.3635, 1.298, 1.3752, 1.418, 1.2692, 1.2179, 1.2768, 1.1882, 1.2807, 1.1806, 1.229, 1.1033, 1.0828, 1.1338, 0.9497, 0.9277, 0.9611, 0.9665, 0.8631, 0.9165, 0.6128, 1.0326, 0.6449, 0.6375, 1.5936, 1.5936, 1.5936, 1.5936, 1.5935, 1.5934, 1.5934, 1.5933, 1.5933, 1.5932, 1.5932, 1.5931, 1.5931, 1.593, 1.5929, 1.5927, 1.5927, 1.5926, 1.5925, 1.5925, 1.5923, 1.5922, 1.5922, 1.5922, 1.5921, 1.592, 1.5918, 1.5917, 1.5916, 1.5916, 1.5899, 1.5799, 1.5789, 1.5377, 1.5485, 1.5373, 1.5302, 1.5662, 1.4989, 1.5281, 1.4961, 1.4672, 1.4892, 1.4428, 1.4133, 1.2348, 1.4385, 1.4192, 1.1283, 0.9703, 1.4766, 1.0915, 1.0365, 0.9378, 0.8519, 0.7337, 0.4638, 1.0628, 0.6692, 0.176, 0.1838, 0.3515, 1.6231, 1.6229, 1.6227, 1.6226, 1.6226, 1.6225, 1.6225, 1.6225, 1.6224, 1.6224, 1.6223, 1.6222, 1.6222, 1.6221, 1.6214, 1.6206, 1.6206, 1.6206, 1.6204, 1.6204, 1.6203, 1.6203, 1.6202, 1.62, 1.6197, 1.6196, 1.6193, 1.619, 1.6188, 1.6186, 1.6038, 1.6032, 1.5777, 1.5819, 1.576, 1.5123, 1.5196, 1.4946, 1.4345, 1.3419, 1.2896, 1.4847, 1.279, 1.1912, 1.2816, 0.8915, 1.1979, 0.9472, 1.0793, 1.0549, 1.0914, 0.9161, 0.8766, 0.7395, 0.8931, 0.8464, 0.6812, 0.7713, 0.6113, 0.8913, 1.0056, 0.563, 0.717, 0.6511, 1.8992, 1.8991, 1.8991, 1.899, 1.899, 1.899, 1.8989, 1.8988, 1.8988, 1.8987, 1.8983, 1.8983, 1.8982, 1.8981, 1.8978, 1.8977, 1.8976, 1.8975, 1.8975, 1.8974, 1.897, 1.897, 1.8969, 1.8966, 1.8965, 1.8963, 1.8958, 1.8958, 1.8958, 1.8955, 1.8529, 1.7571, 1.8495, 1.7162, 1.7666, 1.7318, 1.7872, 1.7931, 1.6329, 1.7266, 1.5964, 1.5283, 1.3741, 1.6661, 1.2791, 1.5555, 1.1303, 1.1365, 1.0546, 1.1732, 0.9183, 1.172, 1.0234, 0.9781, 1.3532, 0.6085, 0.9782, 0.797, 1.1451, 0.675, 0.7074, 0.7611, -0.0083, 0.4662, 0.1449]}, \"token.table\": {\"Topic\": [2, 3, 1, 3, 1, 2, 3, 4, 5, 3, 4, 5, 4, 1, 2, 3, 4, 5, 1, 2, 4, 5, 4, 1, 1, 2, 2, 3, 4, 5, 2, 3, 4, 5, 1, 2, 3, 4, 5, 1, 1, 2, 2, 3, 4, 5, 3, 4, 1, 2, 3, 4, 5, 1, 3, 4, 4, 3, 4, 3, 5, 2, 1, 2, 3, 4, 5, 5, 2, 1, 3, 3, 4, 4, 4, 3, 4, 5, 2, 5, 2, 3, 1, 2, 3, 4, 5, 3, 1, 2, 3, 3, 4, 5, 1, 4, 5, 5, 5, 1, 3, 5, 1, 1, 2, 3, 5, 1, 2, 3, 4, 5, 3, 1, 2, 3, 4, 5, 1, 1, 2, 3, 5, 4, 1, 3, 4, 3, 3, 5, 1, 3, 4, 5, 3, 5, 1, 1, 4, 1, 2, 3, 4, 5, 3, 5, 2, 3, 3, 3, 1, 2, 3, 4, 5, 2, 1, 3, 4, 5, 1, 3, 4, 3, 5, 1, 2, 1, 2, 3, 4, 5, 1, 2, 3, 4, 5, 1, 2, 3, 4, 5, 1, 2, 3, 5, 2, 4, 1, 2, 3, 4, 5, 1, 4, 3, 4, 5, 2, 4, 1, 3, 4, 5, 1, 2, 4, 5, 1, 2, 3, 4, 5, 1, 2, 3, 4, 5, 3, 5, 1, 2, 3, 4, 5, 1, 2, 3, 4, 5, 3, 1, 2, 3, 4, 5, 1, 4, 3, 4, 1, 1, 2, 3, 4, 5, 3, 2, 3, 4, 5, 2, 3, 4, 3, 5, 1, 1, 3, 3, 1, 1, 4, 5, 5, 3, 5, 5, 5, 5, 5, 5, 1, 2, 5, 5, 1, 2, 3, 4, 5, 2, 2, 5, 2, 3, 4, 5, 4, 2, 2, 4, 4, 4, 2, 3, 4, 5, 1, 2, 3, 4, 5, 1, 2, 3, 4, 5, 4, 3, 5, 4, 4, 1, 2, 3, 4, 5, 1, 2, 3, 4, 3, 2, 4, 1, 1, 1, 3, 4, 5, 1, 4, 1, 2, 3, 4, 5, 3, 5, 1, 2, 4, 5, 1, 3, 4, 5, 1, 2, 3, 4, 5, 3, 5, 2, 3, 4, 5, 1, 2, 3, 4, 5, 1, 2, 3, 4, 5, 2, 3, 4, 5, 1, 2, 3, 4, 5, 1, 2, 3, 4, 5, 2, 3, 2, 3, 4, 3, 3, 5, 3, 5, 1, 2, 3, 4, 5, 1, 3, 4, 5, 4, 3, 5, 1, 4, 3, 5, 3, 1, 1, 2, 3, 4, 5, 5, 1, 4, 1, 2, 3, 4, 5, 2, 3, 1, 2, 3, 4, 5, 1, 2, 3, 1, 1, 2, 3, 4, 5, 5, 1, 2, 3, 3, 1, 2, 3, 4, 5, 3, 2, 3, 4, 1, 2, 4, 5, 1, 2, 3, 4, 5, 2, 1, 2, 3, 4, 5, 2, 4, 5, 1, 2, 4, 5, 1, 2, 3, 4, 5, 1, 1, 2, 3, 4, 5, 3, 5, 5, 5, 5, 1, 1, 2, 3, 4, 5, 1, 2, 5, 1, 2, 3, 4, 5, 1, 4, 5, 1, 3, 5, 1, 2, 3, 4, 5, 1, 2, 3, 4, 5, 5, 2, 3, 5, 1, 2, 3, 4, 5, 5, 3, 1, 2, 4, 5, 1, 2, 3, 4, 5, 3, 4, 4, 2, 3, 5, 1, 3, 4, 5, 2, 3, 1, 1, 2, 3, 4, 5, 3, 1, 2, 3, 4, 5, 5, 1, 2, 3, 4, 5, 3, 4, 1, 1, 2, 3, 4, 5, 2, 1, 3, 4, 1, 2, 2, 2, 2, 3, 5, 2, 4, 1, 3, 5, 2, 3, 4, 5, 3, 4, 5, 4, 5, 3, 2, 4, 5, 1, 2, 3, 4, 5, 2, 1, 2, 4, 5, 4, 5, 2, 3, 4, 2, 4, 5, 3, 5, 4, 2, 3, 5, 2, 3, 4, 4, 2, 2, 4, 1, 2, 3, 4, 5, 5, 1, 2, 3, 4, 5, 2, 2, 3, 4, 5, 3, 2, 3, 4, 5, 1, 1, 2, 3, 4, 5, 2, 3, 4, 5, 1, 2, 3, 4, 5, 4, 1, 2, 3, 4, 5, 3, 3, 1, 2, 4, 2, 4, 1, 2, 3, 4, 5, 5, 4, 5, 2, 1, 3, 5, 2, 3, 5, 3, 4, 5, 1, 2, 3, 4, 5, 1, 2, 3, 4, 5, 1, 2, 3, 4, 5, 3, 4, 1, 2, 5, 2, 2, 3, 4, 2, 3, 2, 2, 3, 4, 5, 1, 3, 4, 5], \"Freq\": [0.964147258386762, 0.03537639911378335, 0.9985891755881936, 0.999080889625624, 0.8864259123455239, 0.05560421334825649, 0.03590585974057819, 0.012217966161724521, 0.009724503679739925, 0.0008859616595737691, 0.9962638861907034, 0.0026578849787213072, 0.9989845862658354, 0.0011596156102526348, 0.629864545635556, 0.013915387323031617, 0.3107769835477061, 0.044451931726351, 0.023548798879269618, 0.8071660668486493, 0.11774399439634808, 0.05112568177736167, 0.9989604351851398, 0.9979848544995408, 0.7523998692297207, 0.24751813879848247, 0.8214339233015822, 0.02282091061697349, 0.04041202921755722, 0.11541200108896488, 0.12919001075820483, 0.09645248759604394, 0.7107210673591705, 0.06336294805579529, 0.4326624391705553, 0.11400872690455273, 0.029351472004032646, 0.2534282189237078, 0.1704016013567451, 0.9999395169879288, 0.9977037443973236, 0.9984005912681113, 0.04015512328313432, 0.9092467775579645, 0.050264105368398905, 0.00028080505792401624, 0.9448407418236827, 0.05480748787091113, 0.09985753401249478, 0.16556134090108413, 0.0018378687241563454, 0.7163093352399357, 0.01638766279039408, 0.9492601148354317, 0.009429736240087071, 0.04086219037371064, 0.9969959170013303, 0.000366952737585062, 0.9995792571817088, 0.00285099098619471, 0.9964213496750511, 0.9997542891530636, 0.04635224428098204, 0.33373615882307067, 0.0010534600972950464, 0.5876200422711768, 0.031182418879933373, 0.9987232344877478, 0.9985996951368012, 0.013448652828217342, 0.9862345407359384, 0.5188131972675135, 0.4809344482628611, 0.999589358345426, 0.9977079710891946, 0.9997061301089263, 0.9992549847812702, 0.998911201242682, 0.9998049685730932, 0.9975886168135163, 0.9996975446122099, 0.00022894710743437763, 0.20974721318090034, 0.18146485318066982, 0.4760591463622617, 0.07830780601219896, 0.054439455954200945, 0.9991708786862442, 0.9984917620676218, 0.0014083099606031337, 0.9981855394296999, 0.9066212343629849, 0.09272262624166891, 0.0003552591043742104, 0.9985614014223594, 0.9993042086900118, 0.9982419129546257, 0.9987444591795636, 0.9997331637283503, 0.01665678943924031, 0.972952465480331, 0.009798111434847242, 0.9995433106651811, 0.8307378822731709, 0.16079783848231385, 0.0006113986254080375, 0.007795332473952478, 0.07946984304420344, 0.14850425215330948, 0.15867211085930183, 0.14984212829883478, 0.46344029680996757, 0.9988180469071346, 0.39579367680739597, 0.331967597370738, 0.013077147854503231, 0.14708791990477946, 0.11205556051473411, 0.9997892342954983, 0.9989552285518349, 0.6760906779088112, 0.24142592397577967, 0.08239625236755914, 0.9995878602547281, 0.9978296992287818, 0.001438831577835302, 0.000719415788917651, 0.9980861865121367, 0.9994269636489195, 0.9977102025677499, 0.08245494086702664, 0.19640021090940013, 0.031075982738829135, 0.6898868168020068, 0.10565769058995968, 0.8942058960959088, 0.9980980999892111, 0.9989585897209513, 0.995732590801127, 0.031095942322133977, 0.8041756194974092, 0.09616708088511805, 0.02217025517411404, 0.046355988091329355, 0.995977641548973, 0.0030029476629617274, 0.9935838150053107, 0.9996837813420357, 0.9988672218068438, 0.9991018241307392, 0.3508009807527784, 0.006163944881444168, 0.01347607557413774, 0.4810898549135002, 0.1484181238120282, 0.9995396657753979, 0.18790262850955314, 0.3160732792062634, 0.012756320685454577, 0.48312033580150193, 0.9983280316464406, 0.019362778421860512, 0.9799717301286072, 0.9982078426753933, 0.0017240204536708003, 0.9985861304896448, 0.9942789637078268, 0.3788368130474768, 0.2362416163441303, 0.056843741104911555, 0.12461897088384456, 0.20356861130733284, 0.2981098772866664, 0.08002710307695513, 0.01843120501772369, 0.4739792464557847, 0.1294940791245232, 0.24633650956119046, 0.09487492284597661, 0.045361591960394, 0.4041025887183574, 0.2092783954511737, 0.6940173025889727, 0.04125153864878332, 0.018058613485733472, 0.2464469605111862, 0.9874946739314008, 0.005675256746732188, 0.1578716679024616, 0.589612967273279, 0.10611472900198407, 0.14304681605659617, 0.0033811065613377276, 0.040099959645390745, 0.959584999233561, 0.9994560069581925, 0.0003011316682609799, 0.9994882454445743, 0.9995601590355652, 0.9969854190893926, 0.09414860962689908, 0.42301594094304734, 0.016247525852407855, 0.4663910322811719, 0.3794765988315351, 0.586395431637891, 0.00802594260582229, 0.026084313468922437, 0.195775670356226, 0.20670329687913572, 0.04357884794076046, 0.4930597750397218, 0.060957723856713275, 0.09953834232065516, 0.027892027473809256, 0.24410846945589548, 0.3898496359125553, 0.23857264720918525, 0.40827226269810235, 0.5915727940774184, 0.14074083106117274, 0.1835434549406016, 0.19993903629102686, 0.15539528872836703, 0.32036675771450457, 0.07404134464796652, 0.25985469176450715, 0.6051104961229702, 0.006288442970101266, 0.05477030973959167, 0.9980868678296178, 0.03286819236241638, 0.1770364958288446, 0.5360163503273685, 0.08108006694141101, 0.172986386817362, 0.9983365006510764, 0.001298226918922076, 0.9996610752370707, 0.9958388719678906, 0.999654547140258, 0.21641277903737702, 0.5671845492898023, 0.022229711441905796, 0.035306012290085675, 0.15887705530538554, 0.9979232021200379, 0.7979530932930574, 0.19042845362303665, 0.0024802548228760202, 0.008956475749274518, 0.9026970285981866, 0.02781137838665534, 0.06969598439065434, 0.20714895767613434, 0.7922148309693022, 0.9995631422094086, 0.9498334733763208, 0.05004140226016743, 0.9997271229469266, 0.9979656653926009, 0.037810608913831006, 0.9539907479797362, 0.007756022341298668, 0.9969545949977751, 0.0022420762661096647, 0.9954818621526911, 0.9989938292048807, 0.9997029864119981, 0.9976313631759617, 0.9975793155953389, 0.9994422679631476, 0.07027162105216671, 0.08783952631520839, 0.8415026620996964, 0.999709149988694, 0.11897117419166092, 0.5316689584431781, 0.049306942192766136, 0.21441249393208225, 0.08565924541799587, 0.9915088330019907, 0.9921388799387321, 0.007577568479911306, 0.9264408349231451, 0.003636666672907341, 0.007273333345814682, 0.06273250010765163, 0.9996316781170318, 0.99682110756693, 0.9996476321141533, 0.00026721401553439007, 0.996627993074587, 0.9968943400496219, 0.6623505030650066, 0.1092878330057261, 0.17897862506734855, 0.04938830925028202, 0.4851814545328636, 0.11980781691315326, 0.14585998649695303, 0.23382626280768434, 0.015599138577954183, 0.2669750022401494, 0.03035741258203612, 0.2699540006710969, 0.4265642038980496, 0.006099853930035295, 0.9961409331436392, 0.13230860325697522, 0.8674173989461447, 0.9999559096898152, 0.9963611856304526, 0.06655882411238137, 0.41400910958645165, 0.09631194085135979, 0.36353900785885124, 0.05961643020661973, 0.03281871325604425, 0.028658594674292156, 0.938337857884082, 0.9991635637220058, 0.9994623683204092, 0.9945757256351323, 0.9972551687756482, 0.9982776120436506, 0.9984082192191904, 0.963463339194067, 0.03515659822893059, 0.0010784232585561528, 0.00021568465171123059, 0.9992858854915209, 0.00033465702796099157, 0.7535685702847619, 0.001998855624097512, 0.059394567116040346, 0.1847513698272986, 0.0002855508034425017, 0.8809004348945451, 0.11886787644398243, 0.01071722621146937, 0.890117020823819, 0.08074622488093361, 0.01835141474566673, 0.9263128208819104, 0.060727958856209976, 0.0001691586597666016, 0.01268689948249512, 0.21353590480460177, 0.0039048914256856917, 0.3229756250244771, 0.23830113726750313, 0.22124292735529721, 0.9975460220099316, 0.9977544753871161, 0.6969694021392997, 0.009931168454535476, 0.29157910582516156, 0.0013903635836349665, 0.36973072017896635, 0.33482715177443567, 0.24216281087745162, 0.04262559681261266, 0.010501958634991525, 0.03891481246311393, 0.10396643926712527, 0.16885211804357536, 0.4132935626413016, 0.27505885568277755, 0.004702293343241481, 0.19843677908479052, 0.7547180815902578, 0.04185041075484918, 0.5145583768206307, 0.19979059734483795, 0.02413101353365716, 0.1589807950452707, 0.10237937359500134, 0.48212479486476323, 0.10605113931035401, 0.14004188908931364, 0.22637839352787106, 0.04541164170469005, 0.14018282743515906, 0.8596413296752466, 0.8873985992948696, 0.017670394643559812, 0.09481675174593071, 0.9989600537274856, 0.12408150087825022, 0.8755190701969335, 0.9452086496744072, 0.05440049782298747, 0.061147090719150574, 0.07456112486551694, 0.01080091061135993, 0.7088533109294122, 0.14476704383935649, 0.04179252841019617, 0.8395746548939409, 0.03599950467016898, 0.08234369459038651, 0.9971594501497514, 0.9848374155434316, 0.014660451895129892, 0.04418868926311482, 0.955389936826655, 0.9984201602255807, 0.0008190485317683188, 0.9988597644869428, 0.9993128900690371, 0.38906440499735434, 0.038689086083535794, 0.03579102720087394, 0.1199796377422009, 0.4164510614385089, 0.9993109976384976, 0.8197798648808275, 0.18008983450562854, 0.7150591650963509, 0.11081153590675628, 0.005707876627523858, 0.065345346218549, 0.10293860262741303, 0.9329529455155928, 0.06585550203639479, 0.05551000321896619, 0.20229126173065562, 0.28862532923707657, 0.14985032118966113, 0.30370376761145923, 0.12021513028730083, 0.044687299740305546, 0.834582527544298, 0.9992606164333394, 0.03548794084938774, 0.06863403788637934, 0.39667231345356246, 0.167351761670463, 0.3320013958650843, 0.9968022105582518, 0.9996354412715525, 0.9921616985508047, 0.9993764220004705, 0.9978030260193688, 0.28815189714781453, 0.1088012485786676, 0.026523687464451304, 0.5665603989005245, 0.010104261891219544, 0.9991914384007013, 0.14058657309506814, 0.2057720429730582, 0.6535573043364153, 0.8569924827215076, 0.039271175867752174, 0.029361626817010968, 0.07432161788055902, 0.04731303744035582, 0.5797497541238018, 0.02365651872017791, 0.25538037185829265, 0.09385586264331049, 0.9983364936847402, 0.04387672885962905, 0.10779049723182203, 0.23474049939901542, 0.21558099446364407, 0.39796193075683545, 0.0007867382285782817, 0.8709192190361578, 0.12823833125825992, 0.18183623286029135, 0.12395853468170237, 0.5391284798840217, 0.15494816835212796, 0.0004032932096475937, 0.11957643666051153, 0.572676357699583, 0.011897149684604015, 0.2954122760668624, 0.9994915253754963, 0.006382769251088271, 0.22176728057504566, 0.6276842442240422, 0.07075367616631892, 0.07333394458697162, 0.16703836653799295, 0.8327741721216517, 0.99872491987823, 0.9964219377733083, 0.9997320483047188, 0.9997360643072783, 0.9266628759450131, 0.00022982710216890205, 0.01608789715182314, 0.05699712133788771, 0.00022982710216890205, 0.8562691068594827, 0.08595751651871254, 0.05767235082665756, 0.7008558543201376, 0.13630437994364056, 0.0700165355941497, 0.07609292132618636, 0.016571961087372713, 0.07060631810985234, 0.08366848696017501, 0.845863690956031, 0.9990995320708791, 0.8894840903609398, 0.11009900792741274, 0.9174289654516248, 0.02386269818101465, 0.01909015854481172, 0.0029369474684325723, 0.03671184335540715, 0.029514580324500675, 0.5607770261655128, 0.05745084084555212, 0.19949962315598316, 0.15278135697388584, 0.9994509325316392, 0.4044772610946386, 0.5879214639340264, 0.007676597232817094, 0.2742115205169533, 0.1526587697118815, 0.1578032266849308, 0.12143311227081484, 0.2939518786693518, 0.9976116708327573, 0.9994338785440092, 0.07366517621013537, 0.02737557224025301, 0.8282354946869274, 0.07067875014756231, 0.00020799532905621036, 0.37896748954041526, 0.00644785520074252, 0.0763342857636292, 0.53787592093936, 0.00014035098231048566, 0.9997200469975893, 0.9975699257206925, 0.16296785797872207, 0.09821602125261882, 0.7386606584511359, 0.8055021932611801, 0.03714025177784944, 0.014892873237652498, 0.142309677604235, 0.8768964849533638, 0.12287721445206372, 0.9982992136665727, 0.0009992175799116308, 0.1232368348557678, 0.04529786362266059, 0.25146975761109375, 0.5792131238221087, 0.9987350170623698, 0.0020758809316409085, 0.18215855175148973, 0.10586992751368635, 0.0005189702329102271, 0.7089133381553703, 0.999590033851186, 0.08549008897864592, 0.06769089064239787, 0.698214007462821, 0.12472923076537455, 0.02386710685996897, 0.9363695942669082, 0.06335082121449706, 0.9992179925290079, 0.4346289662630653, 0.05725461637089871, 0.0015816192367651576, 0.3783233214342257, 0.1282693201016543, 0.9939742766597888, 0.00770121507304984, 0.9006368364377234, 0.09160392665838231, 0.2695852316293494, 0.7304146874060149, 0.9995303739058367, 0.9977185376180298, 0.7665177775765493, 0.033925417994087166, 0.1993732898058311, 0.9740625410921708, 0.02568521913630471, 0.8801812487308976, 0.11063730780136981, 0.00901489174677828, 0.10302053761957401, 0.0008633005945774359, 0.879415539009548, 0.01640271129697128, 0.0963509167459284, 0.9015954605008737, 0.0018317664780594753, 0.10005994209536241, 0.899676893150543, 0.9989418056382793, 0.42430248373867824, 0.4818808717870052, 0.09377419798474734, 0.01113742760589396, 0.31061048100882044, 0.11054928142146597, 0.19263624785009184, 0.3749600627317633, 0.9950629705953309, 0.09204566407401923, 0.004756158933915887, 0.8949972017409956, 0.008393221648086861, 0.995174974342802, 0.9962820750067406, 0.9101200806288469, 0.050489558942617835, 0.03924058985177552, 0.9997408667712679, 7.247650186829549e-05, 0.00014495300373659097, 0.04736966628734288, 0.9515730021839762, 0.9994388086209276, 0.9990787056008918, 0.2336850291668909, 0.7662221544578884, 0.3233940799561543, 0.02726371615773857, 0.6492534959478489, 0.9963677707110434, 0.9989631739287644, 0.9402646783610243, 0.059408298710797953, 0.1549753584076212, 0.30503276813512437, 0.015593495815008324, 0.3464155070288003, 0.1780057522267104, 0.9999478667639707, 0.12370498837494193, 0.7582096392156797, 0.06653620198785852, 0.01019395227143174, 0.04146458964460748, 0.9997896027965344, 0.9916626315746241, 0.2953994635710303, 0.3065529902276024, 0.39814710307399737, 0.9984436163325221, 0.33282742799444925, 0.10375060184945346, 0.07954838188818855, 0.48385678511707136, 0.9993018195902025, 0.06959245573158934, 0.1626866260217154, 0.17683328915403848, 0.12070298059675659, 0.470490635142745, 0.8591413054356064, 0.09411864189217918, 0.0004115975592952442, 0.0462361258274991, 0.7764773880811725, 0.11727520706141902, 0.07860201244159347, 0.023856840836905365, 0.0035157449654386855, 0.9989627984998584, 0.5427838412774852, 0.31190497152241936, 0.028404655900465512, 0.01019654314375685, 0.10669954075431276, 0.9994291287532544, 0.999104642835282, 0.7690281625136373, 0.21822195203346004, 0.012544844836148103, 0.9973011717785956, 0.9990125144941796, 0.06728500561977444, 0.42748652022180916, 0.08897798557369078, 0.08419817643130244, 0.3321354557916006, 0.9972169712295232, 0.996413362154821, 0.9980324454448816, 0.995634450748282, 0.9041433954710679, 0.008005696916179904, 0.0875623100207177, 0.9998514191506784, 0.04435167171814418, 0.9549469316812919, 0.855835125278195, 0.11936763713350018, 0.024666375201018487, 0.93595505362988, 0.0003821784620783503, 0.042039630828618536, 0.00592376616221443, 0.015669316945212362, 0.7613111375705954, 0.0024769069841101892, 0.07881067676714239, 0.0004503467243836708, 0.15694583344770927, 0.02426396524959717, 0.03743234840013232, 0.0001219294736160662, 0.5086897639262281, 0.42967946502301724, 0.9554982580409549, 0.04414843436492861, 0.9435642283549833, 0.05590864241627553, 0.0005294379016692758, 0.9873807480641299, 0.0011524949709605628, 0.01805575454504882, 0.9807732202874391, 0.7359107326413151, 0.2638826046642811, 0.9982562187831819, 0.05663542562340495, 0.24358915502240389, 0.5803710505354942, 0.11933216770148868, 0.41756837006250636, 0.028081655709982913, 0.4598371122509702, 0.09448307077421335], \"Term\": [\"abort\", \"abort\", \"acknowledg\", \"actuat\", \"advis\", \"advis\", \"advis\", \"advis\", \"advis\", \"aerial\", \"aerial\", \"aerial\", \"aerobat\", \"airspe\", \"airspe\", \"airspe\", \"airspe\", \"airspe\", \"airstrip\", \"airstrip\", \"airstrip\", \"airstrip\", \"alcohol\", \"altimet\", \"apch\", \"apch\", \"appli\", \"appli\", \"appli\", \"appli\", \"applic\", \"applic\", \"applic\", \"applic\", \"aprx\", \"aprx\", \"aprx\", \"aprx\", \"aprx\", \"arpt\", \"artcc\", \"asphalt\", \"assembl\", \"assembl\", \"assembl\", \"assembl\", \"attach\", \"attach\", \"attitud\", \"attitud\", \"attitud\", \"attitud\", \"attitud\", \"author\", \"author\", \"author\", \"autopsi\", \"autorot\", \"autorot\", \"auxiliari\", \"auxiliari\", \"balloon\", \"bank\", \"bank\", \"bank\", \"bank\", \"bank\", \"banner\", \"basket\", \"bear\", \"bear\", \"blade\", \"blade\", \"blood\", \"boat\", \"bolt\", \"boom\", \"boost\", \"bounc\", \"bowl\", \"brake\", \"brake\", \"break\", \"break\", \"break\", \"break\", \"break\", \"breaker\", \"brief\", \"brief\", \"bulletin\", \"cabl\", \"cabl\", \"cabl\", \"cancel\", \"canyon\", \"capac\", \"carb\", \"carburetor\", \"case\", \"case\", \"case\", \"ceil\", \"cessna\", \"cessna\", \"cessna\", \"cessna\", \"check\", \"check\", \"check\", \"check\", \"check\", \"clamp\", \"clear\", \"clear\", \"clear\", \"clear\", \"clear\", \"cloud\", \"clrd\", \"collaps\", \"collaps\", \"collaps\", \"collect\", \"communic\", \"communic\", \"communic\", \"compressor\", \"connect\", \"consumpt\", \"contain\", \"contain\", \"contain\", \"contain\", \"contamin\", \"contamin\", \"converg\", \"coordin\", \"coronari\", \"correct\", \"correct\", \"correct\", \"correct\", \"correct\", \"corros\", \"corros\", \"crab\", \"crack\", \"crankcas\", \"crankshaft\", \"crash\", \"crash\", \"crash\", \"crash\", \"crash\", \"crosswind\", \"cruis\", \"cruis\", \"cruis\", \"cruis\", \"ctlr\", \"cyclic\", \"cyclic\", \"cylind\", \"cylind\", \"daylight\", \"deflat\", \"departur\", \"departur\", \"departur\", \"departur\", \"departur\", \"descend\", \"descend\", \"descend\", \"descend\", \"descend\", \"descent\", \"descent\", \"descent\", \"descent\", \"descent\", \"destin\", \"destin\", \"destin\", \"destin\", \"devil\", \"devil\", \"direct\", \"direct\", \"direct\", \"direct\", \"direct\", \"dive\", \"dive\", \"door\", \"door\", \"drain\", \"drift\", \"drug\", \"emerg\", \"emerg\", \"emerg\", \"emerg\", \"encount\", \"encount\", \"encount\", \"encount\", \"enter\", \"enter\", \"enter\", \"enter\", \"enter\", \"evid\", \"evid\", \"evid\", \"evid\", \"evid\", \"exhaust\", \"exhaust\", \"experi\", \"experi\", \"experi\", \"experi\", \"experi\", \"extend\", \"extend\", \"extend\", \"extend\", \"extend\", \"extinguish\", \"fail\", \"fail\", \"fail\", \"fail\", \"fail\", \"fatal\", \"fatal\", \"fatigu\", \"fertil\", \"file\", \"final\", \"final\", \"final\", \"final\", \"final\", \"flang\", \"flap\", \"flap\", \"flap\", \"flap\", \"flare\", \"flare\", \"flare\", \"flow\", \"flow\", \"forecast\", \"foreign\", \"foreign\", \"fractur\", \"freq\", \"friend\", \"friend\", \"friend\", \"gag\", \"gage\", \"gage\", \"gal\", \"gallon\", \"gascol\", \"gasolin\", \"gaug\", \"glide\", \"glide\", \"glide\", \"glider\", \"go\", \"go\", \"go\", \"go\", \"go\", \"gondola\", \"grass\", \"grass\", \"gravel\", \"gravel\", \"gravel\", \"gravel\", \"gross\", \"groundloop\", \"gust\", \"gust\", \"gyrocopt\", \"gyroplan\", \"hard\", \"hard\", \"hard\", \"hard\", \"head\", \"head\", \"head\", \"head\", \"head\", \"hear\", \"hear\", \"hear\", \"hear\", \"hear\", \"heart\", \"heat\", \"heat\", \"helicopt\", \"helipad\", \"high\", \"high\", \"high\", \"high\", \"high\", \"hole\", \"hole\", \"hole\", \"hover\", \"hydraul\", \"hydroplan\", \"impair\", \"inbound\", \"info\", \"inform\", \"inform\", \"inform\", \"inform\", \"injur\", \"injur\", \"injuri\", \"injuri\", \"injuri\", \"injuri\", \"injuri\", \"instal\", \"instal\", \"instructor\", \"instructor\", \"instructor\", \"instructor\", \"instrument\", \"instrument\", \"instrument\", \"instrument\", \"investig\", \"investig\", \"investig\", \"investig\", \"investig\", \"latch\", \"lean\", \"lift\", \"lift\", \"lift\", \"lift\", \"light\", \"light\", \"light\", \"light\", \"light\", \"line\", \"line\", \"line\", \"line\", \"line\", \"load\", \"load\", \"load\", \"load\", \"local\", \"local\", \"local\", \"local\", \"local\", \"locat\", \"locat\", \"locat\", \"locat\", \"locat\", \"lock\", \"lock\", \"loop\", \"loop\", \"loop\", \"lubric\", \"magneto\", \"magneto\", \"mainten\", \"mainten\", \"maneuv\", \"maneuv\", \"maneuv\", \"maneuv\", \"maneuv\", \"manufactur\", \"manufactur\", \"manufactur\", \"manufactur\", \"marijuana\", \"materi\", \"materi\", \"medic\", \"medic\", \"metal\", \"metal\", \"metallurg\", \"meteorolog\", \"minut\", \"minut\", \"minut\", \"minut\", \"minut\", \"mixtur\", \"mountain\", \"mountain\", \"night\", \"night\", \"night\", \"night\", \"night\", \"nosewheel\", \"nosewheel\", \"note\", \"note\", \"note\", \"note\", \"note\", \"number\", \"number\", \"number\", \"obscur\", \"open\", \"open\", \"open\", \"open\", \"open\", \"ounc\", \"overcast\", \"overcorrect\", \"overhaul\", \"overheat\", \"pass\", \"pass\", \"pass\", \"pass\", \"pass\", \"piston\", \"pitch\", \"pitch\", \"pitch\", \"plan\", \"plan\", \"plan\", \"plan\", \"plane\", \"plane\", \"plane\", \"plane\", \"plane\", \"porpois\", \"post\", \"post\", \"post\", \"post\", \"post\", \"powerlin\", \"powerlin\", \"powerlin\", \"preimpact\", \"preimpact\", \"preimpact\", \"preimpact\", \"pressur\", \"pressur\", \"pressur\", \"pressur\", \"pressur\", \"prevail\", \"propel\", \"propel\", \"propel\", \"propel\", \"propel\", \"pump\", \"pump\", \"quantiti\", \"quart\", \"quit\", \"radar\", \"radio\", \"radio\", \"radio\", \"radio\", \"radio\", \"rain\", \"rain\", \"rain\", \"receiv\", \"receiv\", \"receiv\", \"receiv\", \"receiv\", \"refuel\", \"refuel\", \"refuel\", \"registr\", \"replac\", \"replac\", \"request\", \"request\", \"request\", \"request\", \"request\", \"rest\", \"rest\", \"rest\", \"rest\", \"rest\", \"restart\", \"retract\", \"retract\", \"retract\", \"return\", \"return\", \"return\", \"return\", \"return\", \"rich\", \"ring\", \"river\", \"river\", \"river\", \"river\", \"road\", \"road\", \"road\", \"road\", \"road\", \"rotor\", \"rotor\", \"rotorcraft\", \"rough\", \"rough\", \"rough\", \"rout\", \"rout\", \"rout\", \"rout\", \"rudder\", \"rudder\", \"rule\", \"run\", \"run\", \"run\", \"run\", \"run\", \"screw\", \"select\", \"select\", \"select\", \"select\", \"select\", \"selector\", \"separ\", \"separ\", \"separ\", \"separ\", \"separ\", \"shaft\", \"shaft\", \"shower\", \"site\", \"site\", \"site\", \"site\", \"site\", \"ski\", \"smoke\", \"smoke\", \"smoke\", \"snow\", \"snow\", \"snowbank\", \"sock\", \"soft\", \"soft\", \"soft\", \"solo\", \"solo\", \"sourc\", \"sourc\", \"sourc\", \"spin\", \"spin\", \"spin\", \"spin\", \"spray\", \"spray\", \"spray\", \"sputter\", \"sputter\", \"stage\", \"stall\", \"stall\", \"stall\", \"start\", \"start\", \"start\", \"start\", \"start\", \"stearman\", \"steep\", \"steep\", \"steep\", \"steep\", \"steepli\", \"strainer\", \"strip\", \"strip\", \"strip\", \"student\", \"student\", \"student\", \"sump\", \"sump\", \"swath\", \"swerv\", \"switch\", \"switch\", \"tail\", \"tail\", \"tail\", \"tailboom\", \"tailwheel\", \"tailwind\", \"tailwind\", \"take\", \"take\", \"take\", \"take\", \"take\", \"tank\", \"taxi\", \"taxi\", \"taxi\", \"taxi\", \"taxi\", \"taxiway\", \"taylorcraft\", \"test\", \"test\", \"test\", \"thread\", \"throttl\", \"throttl\", \"throttl\", \"throttl\", \"thunderstorm\", \"total\", \"total\", \"total\", \"total\", \"total\", \"touchdown\", \"touchdown\", \"touchdown\", \"touchdown\", \"tower\", \"tower\", \"tower\", \"tower\", \"tower\", \"toxicolog\", \"traffic\", \"traffic\", \"traffic\", \"traffic\", \"traffic\", \"tube\", \"turbin\", \"turbul\", \"turbul\", \"turbul\", \"turf\", \"ultralight\", \"unabl\", \"unabl\", \"unabl\", \"unabl\", \"unabl\", \"unus\", \"urin\", \"usabl\", \"vasi\", \"vector\", \"vector\", \"vector\", \"veer\", \"vent\", \"vent\", \"vibrat\", \"vibrat\", \"vibrat\", \"visibl\", \"visibl\", \"visibl\", \"visibl\", \"visibl\", \"visual\", \"visual\", \"visual\", \"visual\", \"visual\", \"water\", \"water\", \"water\", \"water\", \"water\", \"wear\", \"wear\", \"weather\", \"weather\", \"weather\", \"weathervan\", \"weight\", \"weight\", \"weight\", \"wheel\", \"wheel\", \"windsock\", \"wire\", \"wire\", \"wire\", \"wire\", \"wreckag\", \"wreckag\", \"wreckag\", \"wreckag\"]}, \"R\": 30, \"lambda.step\": 0.01, \"plot.opts\": {\"xlab\": \"PC1\", \"ylab\": \"PC2\"}, \"topic.order\": [2, 5, 4, 3, 1]};\n",
       "\n",
       "function LDAvis_load_lib(url, callback){\n",
       "  var s = document.createElement('script');\n",
       "  s.src = url;\n",
       "  s.async = true;\n",
       "  s.onreadystatechange = s.onload = callback;\n",
       "  s.onerror = function(){console.warn(\"failed to load library \" + url);};\n",
       "  document.getElementsByTagName(\"head\")[0].appendChild(s);\n",
       "}\n",
       "\n",
       "if(typeof(LDAvis) !== \"undefined\"){\n",
       "   // already loaded: just create the visualization\n",
       "   !function(LDAvis){\n",
       "       new LDAvis(\"#\" + \"ldavis_el862817137909618088449022682\", ldavis_el862817137909618088449022682_data);\n",
       "   }(LDAvis);\n",
       "}else if(typeof define === \"function\" && define.amd){\n",
       "   // require.js is available: use it to load d3/LDAvis\n",
       "   require.config({paths: {d3: \"https://d3js.org/d3.v5\"}});\n",
       "   require([\"d3\"], function(d3){\n",
       "      window.d3 = d3;\n",
       "      LDAvis_load_lib(\"https://cdn.jsdelivr.net/gh/bmabey/pyLDAvis@3.3.1/pyLDAvis/js/ldavis.v3.0.0.js\", function(){\n",
       "        new LDAvis(\"#\" + \"ldavis_el862817137909618088449022682\", ldavis_el862817137909618088449022682_data);\n",
       "      });\n",
       "    });\n",
       "}else{\n",
       "    // require.js not available: dynamically load d3 & LDAvis\n",
       "    LDAvis_load_lib(\"https://d3js.org/d3.v5.js\", function(){\n",
       "         LDAvis_load_lib(\"https://cdn.jsdelivr.net/gh/bmabey/pyLDAvis@3.3.1/pyLDAvis/js/ldavis.v3.0.0.js\", function(){\n",
       "                 new LDAvis(\"#\" + \"ldavis_el862817137909618088449022682\", ldavis_el862817137909618088449022682_data);\n",
       "            })\n",
       "         });\n",
       "}\n",
       "</script>"
      ],
      "text/plain": [
       "PreparedData(topic_coordinates=              x         y  topics  cluster       Freq\n",
       "topic                                                \n",
       "1     -0.252998 -0.087784       1        1  22.564838\n",
       "4      0.031524  0.202471       2        1  22.429059\n",
       "3      0.153959 -0.170600       3        1  20.311910\n",
       "2     -0.030268  0.060863       4        1  19.726774\n",
       "0      0.097783 -0.004951       5        1  14.967419, topic_info=          Term          Freq         Total Category  logprob  loglift\n",
       "773       tank  16517.000000  16517.000000  Default  30.0000  30.0000\n",
       "88    helicopt  16521.000000  16521.000000  Default  29.0000  29.0000\n",
       "489    student  13797.000000  13797.000000  Default  28.0000  28.0000\n",
       "4804      arpt  10563.000000  10563.000000  Default  27.0000  27.0000\n",
       "35       brake   8735.000000   8735.000000  Default  26.0000  26.0000\n",
       "...        ...           ...           ...      ...      ...      ...\n",
       "160       note   2275.543092   7494.144764   Topic5  -5.1198   0.7074\n",
       "8       experi   2208.189784   6892.100840   Topic5  -5.1498   0.7611\n",
       "382      crash   2456.209903  16547.844272   Topic5  -5.0434  -0.0083\n",
       "563       evid   2240.916587   9393.365192   Topic5  -5.1351   0.4662\n",
       "1180      fail   2221.368931  12839.160589   Topic5  -5.1439   0.1449\n",
       "\n",
       "[348 rows x 6 columns], token_table=      Topic      Freq        Term\n",
       "term                             \n",
       "113       2  0.964147       abort\n",
       "113       3  0.035376       abort\n",
       "806       1  0.998589  acknowledg\n",
       "241       3  0.999081      actuat\n",
       "416       1  0.886426       advis\n",
       "...     ...       ...         ...\n",
       "755       5  0.119332        wire\n",
       "238       1  0.417568     wreckag\n",
       "238       3  0.028082     wreckag\n",
       "238       4  0.459837     wreckag\n",
       "238       5  0.094483     wreckag\n",
       "\n",
       "[742 rows x 3 columns], R=30, lambda_step=0.01, plot_opts={'xlab': 'PC1', 'ylab': 'PC2'}, topic_order=[2, 5, 4, 3, 1])"
      ]
     },
     "execution_count": 45,
     "metadata": {},
     "output_type": "execute_result"
    }
   ],
   "source": [
    "# visualize the topic clustering. did the algorithm do a good job?\n",
    "\n",
    "pyLDAvis.enable_notebook()\n",
    "LDAvis_prepared = pyLDAvis.gensim_models.prepare(lda_model_final, bow_corpus_nn, new_narrative_dict)\n",
    "\n",
    "LDAvis_prepared"
   ]
  },
  {
   "cell_type": "markdown",
   "id": "984e408d",
   "metadata": {},
   "source": [
    "Topic clusters appear to be relatively well separated and checking out the top-30 most relevant terms gives some confidence that the LDA topic clustering works."
   ]
  },
  {
   "cell_type": "code",
   "execution_count": 60,
   "id": "d15d31e7",
   "metadata": {},
   "outputs": [],
   "source": [
    "# Replace the topic number with an identifiable topic. Note that this may change for your own run of the model despite the random seed that was set. \n",
    "topic_replacement_dict = { 0:'Mechanical', 1:'Weather', 2: 'Helicopter', 3: 'Unknown', 4: 'Student'}\n",
    "\n",
    "# generate the topics dataframe\n",
    "topics = pd.DataFrame(aviation['new_narrative'].apply(topic_assignment).tolist()).rename(columns = {0: 'topic', 1:'score'})\n",
    "topics['topic'] = topics['topic'].replace(topic_replacement_dict)\n",
    "\n",
    "# append the topics dataframe to the aviation dataframe and filter down to values that have at least one small word in them\n",
    "aviation_clustered = pd.concat([aviation, topics], axis=1)\n",
    "aviation_clustered = aviation_clustered[aviation_clustered['new_narrative'].apply(lambda x: len(x) > 5)]"
   ]
  },
  {
   "cell_type": "markdown",
   "id": "5e5be551",
   "metadata": {},
   "source": [
    "### Task 5: Create a chart that you feel conveys one important relationship in the data."
   ]
  },
  {
   "cell_type": "markdown",
   "id": "c8e71da7",
   "metadata": {},
   "source": [
    "For this exercise, I'm going to investigate the relationship between fatality and topic cluster to get an understanding of which accidents are the most fatal."
   ]
  },
  {
   "cell_type": "code",
   "execution_count": 61,
   "id": "1f64cc8c",
   "metadata": {},
   "outputs": [
    {
     "name": "stderr",
     "output_type": "stream",
     "text": [
      "C:\\Users\\Prudvi\\AppData\\Local\\Temp\\ipykernel_8628\\1415080353.py:7: SettingWithCopyWarning: \n",
      "A value is trying to be set on a copy of a slice from a DataFrame.\n",
      "Try using .loc[row_indexer,col_indexer] = value instead\n",
      "\n",
      "See the caveats in the documentation: https://pandas.pydata.org/pandas-docs/stable/user_guide/indexing.html#returning-a-view-versus-a-copy\n",
      "  fatality['fatality_ind'] = fatality['InjurySeverity'].apply(lambda x: 'Non-Fatal' if x == 'Non-Fatal' else 'Fatal')\n"
     ]
    },
    {
     "data": {
      "text/plain": [
       "<Figure size 432x288 with 0 Axes>"
      ]
     },
     "metadata": {},
     "output_type": "display_data"
    },
    {
     "data": {
      "image/png": "[encoded data removed]",
      "text/plain": [
       "<Figure size 443.375x360 with 1 Axes>"
      ]
     },
     "metadata": {
      "needs_background": "light"
     },
     "output_type": "display_data"
    },
    {
     "name": "stdout",
     "output_type": "stream",
     "text": [
      "        topic fatality_ind  new_narrative  percent_share  \\\n",
      "0  Helicopter        Fatal           5739       7.788771   \n",
      "1  Helicopter    Non-Fatal           8669      11.765265   \n",
      "2  Mechanical        Fatal            860       1.167162   \n",
      "3  Mechanical    Non-Fatal          11357      15.413325   \n",
      "4     Student        Fatal            532       0.722012   \n",
      "5     Student    Non-Fatal          24910      33.806984   \n",
      "6     Unknown        Fatal           1385       1.879674   \n",
      "7     Unknown    Non-Fatal           7977      10.826106   \n",
      "8     Weather        Fatal           6853       9.300653   \n",
      "9     Weather    Non-Fatal           5401       7.330049   \n",
      "\n",
      "   percent_share_fatality  \n",
      "0                0.373414  \n",
      "1                0.148661  \n",
      "2                0.055957  \n",
      "3                0.194756  \n",
      "4                0.034615  \n",
      "5                0.427170  \n",
      "6                0.090116  \n",
      "7                0.136794  \n",
      "8                0.445898  \n",
      "9                0.092619  \n"
     ]
    }
   ],
   "source": [
    "# How do topics vary depending on whether or not a fatality was reported in the crash\n",
    "\n",
    "# Begin by feature engineering injury severity as binarily fatal or non fatal. First nans must be removed from injury severity. \n",
    "# Unavailable and Incident are confusing indicators and will be removed from the dataset.\n",
    "# There aren't many observations with this tag, ~190 and ~3050 respectively, making up about 5% of the data \n",
    "fatality = aviation_clustered[(aviation_clustered['InjurySeverity'] != np.nan) & (aviation_clustered['InjurySeverity'] != 'Incident') & (aviation_clustered['InjurySeverity'] != 'Unavailable')]\n",
    "fatality['fatality_ind'] = fatality['InjurySeverity'].apply(lambda x: 'Non-Fatal' if x == 'Non-Fatal' else 'Fatal')\n",
    "\n",
    "# determine the count and calculate the percentage share of total accidents for each fatality (Non-Fatal vs Fatal) category\n",
    "topic_by_fatality = fatality.groupby(['topic', 'fatality_ind'])['new_narrative'].count().reset_index()\n",
    "# this calculates percent share of all observations\n",
    "topic_by_fatality['percent_share'] = topic_by_fatality['new_narrative'] * 100 / topic_by_fatality['new_narrative'].sum()\n",
    "# this calculates percent share within the fatality category (so percent of all fatal or non-fatal accidents)\n",
    "topic_by_fatality['percent_share_fatality'] = topic_by_fatality.groupby('fatality_ind')['new_narrative'].apply(lambda x: x/x.sum())\n",
    "\n",
    "# Check out the interaction between fatality in a side-by-side barplot\n",
    "plt.figure()\n",
    "g = sns.catplot(y = 'topic', x = 'percent_share', hue = 'fatality_ind', data = topic_by_fatality, kind = 'bar', palette = 'colorblind')\n",
    "g._legend.remove()\n",
    "plt.legend(title = 'Fatality Category')\n",
    "plt.xlabel('Percent of Total')\n",
    "plt.ylabel('Topic')\n",
    "plt.show()\n",
    "\n",
    "# print the dataframe\n",
    "\n",
    "print(topic_by_fatality)"
   ]
  }
 ],
 "metadata": {
  "kernelspec": {
   "display_name": "Python 3 (ipykernel)",
   "language": "python",
   "name": "python3"
  },
  "language_info": {
   "codemirror_mode": {
    "name": "ipython",
    "version": 3
   },
   "file_extension": ".py",
   "mimetype": "text/x-python",
   "name": "python",
   "nbconvert_exporter": "python",
   "pygments_lexer": "ipython3",
   "version": "3.8.8"
  }
 },
 "nbformat": 4,
 "nbformat_minor": 5
}
